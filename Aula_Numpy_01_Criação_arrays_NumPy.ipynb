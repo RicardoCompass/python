oi gata, tá afim de fazr um fork? 👨‍🍳🔥🔥

{
  "cells": [
    {
      "cell_type": "markdown",
      "metadata": {
        "id": "4WJ_Hc4bZrVw"
      },
      "source": [
        "# NumPy - Numerical Python\n",
        "\n",
        "## Criando arrays NumPy"
      ]
    },
    {
      "cell_type": "code",
      "execution_count": 1,
      "metadata": {
        "collapsed": true,
        "id": "Q8y6TO9jZrVy"
      },
      "outputs": [],
      "source": [
        "# Importando o NumPy\n",
        "import numpy as np"
      ]
    },
    {
      "cell_type": "markdown",
      "metadata": {
        "id": "4O70-xX0ZrVz"
      },
      "source": [
        "### Criando arrays de 1 dimensão"
      ]
    },
    {
      "cell_type": "code",
      "execution_count": 2,
      "metadata": {
        "collapsed": true,
        "colab": {
          "base_uri": "https://localhost:8080/"
        },
        "id": "LDznHXp0ZrVz",
        "outputId": "218afacf-0a98-4dd2-e1d2-3f62198c5191"
      },
      "outputs": [
        {
          "output_type": "execute_result",
          "data": {
            "text/plain": [
              "array([1, 2, 3])"
            ]
          },
          "metadata": {},
          "execution_count": 2
        }
      ],
      "source": [
        "a1D = np.array([1, 2, 3])\n",
        "a1D"
      ]
    },
    {
      "cell_type": "code",
      "execution_count": 3,
      "metadata": {
        "collapsed": true,
        "colab": {
          "base_uri": "https://localhost:8080/"
        },
        "id": "MGRTjIvvZrVz",
        "outputId": "4465a7b1-1065-4a28-81d4-e6774473ed4f"
      },
      "outputs": [
        {
          "output_type": "execute_result",
          "data": {
            "text/plain": [
              "numpy.ndarray"
            ]
          },
          "metadata": {},
          "execution_count": 3
        }
      ],
      "source": [
        "# O objeto criado é um ndarray: n-dimensional array\n",
        "type(a1D)"
      ]
    },
    {
      "cell_type": "code",
      "execution_count": 4,
      "metadata": {
        "collapsed": true,
        "colab": {
          "base_uri": "https://localhost:8080/"
        },
        "id": "glZ0oPdwZrV0",
        "outputId": "b4b45bb5-c334-452d-fb9d-bbe364d553a2"
      },
      "outputs": [
        {
          "output_type": "execute_result",
          "data": {
            "text/plain": [
              "dtype('int64')"
            ]
          },
          "metadata": {},
          "execution_count": 4
        }
      ],
      "source": [
        "# Verificando o tipo dos elementos\n",
        "a1D.dtype"
      ]
    },
    {
      "cell_type": "code",
      "execution_count": 6,
      "metadata": {
        "collapsed": true,
        "colab": {
          "base_uri": "https://localhost:8080/"
        },
        "id": "bSBxt1y1ZrV0",
        "outputId": "8fcc16f6-95e8-4584-c2de-1c4915217596"
      },
      "outputs": [
        {
          "output_type": "execute_result",
          "data": {
            "text/plain": [
              "array([1., 2., 3.])"
            ]
          },
          "metadata": {},
          "execution_count": 6
        }
      ],
      "source": [
        "b1D = np.array([1, 2, 3], dtype = float)\n",
        "b1D"
      ]
    },
    {
      "cell_type": "code",
      "execution_count": 7,
      "metadata": {
        "collapsed": true,
        "colab": {
          "base_uri": "https://localhost:8080/"
        },
        "id": "eaS9Bh9FZrV0",
        "outputId": "618b2063-2de4-4b82-bae8-16064e0a1445"
      },
      "outputs": [
        {
          "output_type": "execute_result",
          "data": {
            "text/plain": [
              "dtype('float64')"
            ]
          },
          "metadata": {},
          "execution_count": 7
        }
      ],
      "source": [
        "b1D.dtype"
      ]
    },
    {
      "cell_type": "code",
      "execution_count": 8,
      "metadata": {
        "collapsed": true,
        "colab": {
          "base_uri": "https://localhost:8080/"
        },
        "id": "6er6g33FZrV0",
        "outputId": "85d6c757-2ea3-4bf5-9261-ba660d769067"
      },
      "outputs": [
        {
          "output_type": "execute_result",
          "data": {
            "text/plain": [
              "array(['1', '2', '3'], dtype='<U1')"
            ]
          },
          "metadata": {},
          "execution_count": 8
        }
      ],
      "source": [
        "c1D = np.array([1, 2, 3], dtype = str)\n",
        "c1D"
      ]
    },
    {
      "cell_type": "code",
      "execution_count": 9,
      "metadata": {
        "collapsed": true,
        "colab": {
          "base_uri": "https://localhost:8080/"
        },
        "id": "_9bY71uFZrV0",
        "outputId": "81d12785-d6e3-43b3-df02-81aab9292825"
      },
      "outputs": [
        {
          "output_type": "execute_result",
          "data": {
            "text/plain": [
              "array(['1', '3.14', 'NumPy', 'True'], dtype='<U32')"
            ]
          },
          "metadata": {},
          "execution_count": 9
        }
      ],
      "source": [
        "# str > float > int > bool\n",
        "d1D = np.array([1, 3.14, \"NumPy\", True])\n",
        "d1D"
      ]
    },
    {
      "cell_type": "code",
      "execution_count": 10,
      "metadata": {
        "collapsed": true,
        "colab": {
          "base_uri": "https://localhost:8080/"
        },
        "id": "r22bHtFmZrV0",
        "outputId": "446940ec-4a5b-4829-a061-92181f23d44f"
      },
      "outputs": [
        {
          "output_type": "execute_result",
          "data": {
            "text/plain": [
              "array([1.  , 3.14, 0.  , 1.  ])"
            ]
          },
          "metadata": {},
          "execution_count": 10
        }
      ],
      "source": [
        "e1D = np.array([1, 3.14, False, True])\n",
        "e1D"
      ]
    },
    {
      "cell_type": "code",
      "execution_count": 11,
      "metadata": {
        "collapsed": true,
        "colab": {
          "base_uri": "https://localhost:8080/"
        },
        "id": "MyxGIrRxZrV0",
        "outputId": "f585d551-ccd9-4197-cb6d-d1dc57da2eff"
      },
      "outputs": [
        {
          "output_type": "execute_result",
          "data": {
            "text/plain": [
              "dtype('float64')"
            ]
          },
          "metadata": {},
          "execution_count": 11
        }
      ],
      "source": [
        "e1D.dtype"
      ]
    },
    {
      "cell_type": "code",
      "execution_count": 12,
      "metadata": {
        "collapsed": true,
        "colab": {
          "base_uri": "https://localhost:8080/"
        },
        "id": "rPXQGwLXZrV1",
        "outputId": "63d33ae2-2d98-49ab-b121-5de56f59e965"
      },
      "outputs": [
        {
          "output_type": "execute_result",
          "data": {
            "text/plain": [
              "array([1, 0, 1])"
            ]
          },
          "metadata": {},
          "execution_count": 12
        }
      ],
      "source": [
        "f1D = np.array([1, False, True])\n",
        "f1D"
      ]
    },
    {
      "cell_type": "code",
      "execution_count": 13,
      "metadata": {
        "collapsed": true,
        "colab": {
          "base_uri": "https://localhost:8080/"
        },
        "id": "3wcdbyJMZrV1",
        "outputId": "a13d8a34-7395-4418-e121-21440b3a9ecd"
      },
      "outputs": [
        {
          "output_type": "execute_result",
          "data": {
            "text/plain": [
              "dtype('int64')"
            ]
          },
          "metadata": {},
          "execution_count": 13
        }
      ],
      "source": [
        "f1D.dtype"
      ]
    },
    {
      "cell_type": "code",
      "execution_count": 14,
      "metadata": {
        "collapsed": true,
        "colab": {
          "base_uri": "https://localhost:8080/"
        },
        "id": "IVsg0nkkZrV1",
        "outputId": "726ae4f2-cda9-4aee-dd32-fe5c51c02efc"
      },
      "outputs": [
        {
          "output_type": "execute_result",
          "data": {
            "text/plain": [
              "array([False,  True])"
            ]
          },
          "metadata": {},
          "execution_count": 14
        }
      ],
      "source": [
        "g1D = np.array([False, True])\n",
        "g1D"
      ]
    },
    {
      "cell_type": "code",
      "execution_count": 15,
      "metadata": {
        "collapsed": true,
        "colab": {
          "base_uri": "https://localhost:8080/"
        },
        "id": "MPM6_WkmZrV1",
        "outputId": "34e13d6a-1175-4cd2-abc5-07b7ce1e2fe9"
      },
      "outputs": [
        {
          "output_type": "execute_result",
          "data": {
            "text/plain": [
              "dtype('bool')"
            ]
          },
          "metadata": {},
          "execution_count": 15
        }
      ],
      "source": [
        "g1D.dtype"
      ]
    },
    {
      "cell_type": "markdown",
      "metadata": {
        "id": "r17OYqboZrV1"
      },
      "source": [
        "### Criando arrays de 2 dimensões"
      ]
    },
    {
      "cell_type": "code",
      "execution_count": 16,
      "metadata": {
        "collapsed": true,
        "colab": {
          "base_uri": "https://localhost:8080/"
        },
        "id": "Aq3DAtE4ZrV1",
        "outputId": "084ad1cc-2293-44e9-a3df-0f60f774f9e0"
      },
      "outputs": [
        {
          "output_type": "execute_result",
          "data": {
            "text/plain": [
              "array([[1, 2, 3],\n",
              "       [4, 5, 6],\n",
              "       [7, 8, 9]])"
            ]
          },
          "metadata": {},
          "execution_count": 16
        }
      ],
      "source": [
        "a2D = np.array([ [1, 2, 3], [4, 5, 6], [7, 8, 9]])\n",
        "a2D"
      ]
    },
    {
      "cell_type": "code",
      "execution_count": 17,
      "metadata": {
        "collapsed": true,
        "colab": {
          "base_uri": "https://localhost:8080/"
        },
        "id": "Pjwc5wWLZrV1",
        "outputId": "24197fed-d1c7-42b3-9104-c11b3cb5d2fb"
      },
      "outputs": [
        {
          "output_type": "execute_result",
          "data": {
            "text/plain": [
              "dtype('int64')"
            ]
          },
          "metadata": {},
          "execution_count": 17
        }
      ],
      "source": [
        "a2D.dtype"
      ]
    },
    {
      "cell_type": "markdown",
      "metadata": {
        "id": "X1JfpdklZrV1"
      },
      "source": [
        "### Criando arrays de 3 dimensões"
      ]
    },
    {
      "cell_type": "code",
      "execution_count": 18,
      "metadata": {
        "collapsed": true,
        "colab": {
          "base_uri": "https://localhost:8080/"
        },
        "id": "55dqEtViZrV1",
        "outputId": "340e3556-0793-4de8-d983-a2d8c055a11a"
      },
      "outputs": [
        {
          "output_type": "execute_result",
          "data": {
            "text/plain": [
              "array([[[ 1,  2,  3],\n",
              "        [ 4,  5,  6],\n",
              "        [ 7,  8,  9]],\n",
              "\n",
              "       [[11, 12, 13],\n",
              "        [14, 15, 16],\n",
              "        [17, 18, 19]],\n",
              "\n",
              "       [[21, 22, 23],\n",
              "        [24, 25, 26],\n",
              "        [27, 28, 29]]])"
            ]
          },
          "metadata": {},
          "execution_count": 18
        }
      ],
      "source": [
        "a3D = np.array( [ [ [1,2,3], [4,5,6], [7,8,9] ], [ [11,12,13], [14,15,16], [17,18,19] ], [ [21,22,23], [24,25,26], [27,28,29] ]])\n",
        "a3D"
      ]
    },
    {
      "cell_type": "markdown",
      "metadata": {
        "id": "KoWwLTKKZrV1"
      },
      "source": [
        "## Outras formas de criar arrays\n",
        "\n",
        "### Arrays preenchidos com zeros - zeros()"
      ]
    },
    {
      "cell_type": "code",
      "execution_count": 19,
      "metadata": {
        "collapsed": true,
        "colab": {
          "base_uri": "https://localhost:8080/"
        },
        "id": "1CAlf4IfZrV1",
        "outputId": "09397495-28f7-4b06-d3ea-cce181cc5296"
      },
      "outputs": [
        {
          "output_type": "execute_result",
          "data": {
            "text/plain": [
              "array([0., 0., 0., 0., 0.])"
            ]
          },
          "metadata": {},
          "execution_count": 19
        }
      ],
      "source": [
        "# 1 dimensão\n",
        "azeros = np.zeros(5)\n",
        "azeros"
      ]
    },
    {
      "cell_type": "code",
      "execution_count": 20,
      "metadata": {
        "collapsed": true,
        "colab": {
          "base_uri": "https://localhost:8080/"
        },
        "id": "lZpn1-6_ZrV1",
        "outputId": "c274525b-e7f8-4b4c-aef0-a1efde5a214c"
      },
      "outputs": [
        {
          "output_type": "execute_result",
          "data": {
            "text/plain": [
              "array([[0., 0., 0., 0.],\n",
              "       [0., 0., 0., 0.],\n",
              "       [0., 0., 0., 0.]])"
            ]
          },
          "metadata": {},
          "execution_count": 20
        }
      ],
      "source": [
        "# 2 dimensões\n",
        "bzeros = np.zeros((3, 4)) # 3 linhas e 4 colunas\n",
        "bzeros"
      ]
    },
    {
      "cell_type": "code",
      "execution_count": 21,
      "metadata": {
        "collapsed": true,
        "colab": {
          "base_uri": "https://localhost:8080/"
        },
        "id": "KkvRaknAZrV2",
        "outputId": "a746ef92-92c2-43d3-e084-5639accda9de"
      },
      "outputs": [
        {
          "output_type": "execute_result",
          "data": {
            "text/plain": [
              "array([[[0., 0.],\n",
              "        [0., 0.],\n",
              "        [0., 0.],\n",
              "        [0., 0.]],\n",
              "\n",
              "       [[0., 0.],\n",
              "        [0., 0.],\n",
              "        [0., 0.],\n",
              "        [0., 0.]],\n",
              "\n",
              "       [[0., 0.],\n",
              "        [0., 0.],\n",
              "        [0., 0.],\n",
              "        [0., 0.]]])"
            ]
          },
          "metadata": {},
          "execution_count": 21
        }
      ],
      "source": [
        "# 3 dimensões\n",
        "czeros = np.zeros((3, 4, 2)) # 3 páginas, 4 linhas e 2 colunas\n",
        "czeros"
      ]
    },
    {
      "cell_type": "code",
      "execution_count": 22,
      "metadata": {
        "collapsed": true,
        "colab": {
          "base_uri": "https://localhost:8080/"
        },
        "id": "kIB2O2aJZrV2",
        "outputId": "1356ecbe-c45a-42a3-96f7-cdec851da342"
      },
      "outputs": [
        {
          "output_type": "execute_result",
          "data": {
            "text/plain": [
              "array([[0, 0, 0, 0],\n",
              "       [0, 0, 0, 0],\n",
              "       [0, 0, 0, 0]])"
            ]
          },
          "metadata": {},
          "execution_count": 22
        }
      ],
      "source": [
        "# 2 dimensões\n",
        "dzeros = np.zeros((3, 4), dtype = int) # 3 linhas e 4 colunas\n",
        "dzeros"
      ]
    },
    {
      "cell_type": "markdown",
      "metadata": {
        "id": "SCWPiTuXZrV2"
      },
      "source": [
        "### Arrays preenchidos com 1's - ones()"
      ]
    },
    {
      "cell_type": "code",
      "execution_count": 23,
      "metadata": {
        "collapsed": true,
        "colab": {
          "base_uri": "https://localhost:8080/"
        },
        "id": "gPNp8wCsZrV2",
        "outputId": "81e1a74f-d6bc-4fe0-ae0b-ef7a9c94a36e"
      },
      "outputs": [
        {
          "output_type": "execute_result",
          "data": {
            "text/plain": [
              "array([1., 1., 1., 1., 1.])"
            ]
          },
          "metadata": {},
          "execution_count": 23
        }
      ],
      "source": [
        "# 1 dimensão\n",
        "a_um_1D = np.ones(5)\n",
        "a_um_1D"
      ]
    },
    {
      "cell_type": "code",
      "execution_count": 24,
      "metadata": {
        "collapsed": true,
        "colab": {
          "base_uri": "https://localhost:8080/"
        },
        "id": "3w4mSWA9ZrV2",
        "outputId": "4728a2c0-72fc-455f-8bad-f15f23dc3f3e"
      },
      "outputs": [
        {
          "output_type": "execute_result",
          "data": {
            "text/plain": [
              "array(['1', '1', '1', '1', '1', '1', '1', '1', '1', '1'], dtype='<U1')"
            ]
          },
          "metadata": {},
          "execution_count": 24
        }
      ],
      "source": [
        "b_um_1D = np.ones(10, dtype = str)\n",
        "b_um_1D"
      ]
    },
    {
      "cell_type": "code",
      "execution_count": 25,
      "metadata": {
        "collapsed": true,
        "colab": {
          "base_uri": "https://localhost:8080/"
        },
        "id": "KEq-z4HnZrV2",
        "outputId": "0eedf737-3e5b-42e8-aa03-aee6a02176a7"
      },
      "outputs": [
        {
          "output_type": "execute_result",
          "data": {
            "text/plain": [
              "array([1, 1, 1, 1, 1])"
            ]
          },
          "metadata": {},
          "execution_count": 25
        }
      ],
      "source": [
        "c_um_1D = np.ones(5, dtype = int)\n",
        "c_um_1D"
      ]
    },
    {
      "cell_type": "code",
      "execution_count": 26,
      "metadata": {
        "collapsed": true,
        "colab": {
          "base_uri": "https://localhost:8080/"
        },
        "id": "XTzNRSrAZrV2",
        "outputId": "ec884d1c-44a4-43aa-a3e4-0dc496345474"
      },
      "outputs": [
        {
          "output_type": "execute_result",
          "data": {
            "text/plain": [
              "array([[1., 1., 1.],\n",
              "       [1., 1., 1.],\n",
              "       [1., 1., 1.],\n",
              "       [1., 1., 1.]])"
            ]
          },
          "metadata": {},
          "execution_count": 26
        }
      ],
      "source": [
        "# 2 dimensões\n",
        "d_um_2D = np.ones((4, 3)) # 4 linhas e 3 colunas\n",
        "d_um_2D"
      ]
    },
    {
      "cell_type": "code",
      "execution_count": 27,
      "metadata": {
        "collapsed": true,
        "colab": {
          "base_uri": "https://localhost:8080/"
        },
        "id": "YWpjY3BgZrV2",
        "outputId": "0c0db3bf-634c-424a-bac8-4cd0ffb48bd5"
      },
      "outputs": [
        {
          "output_type": "execute_result",
          "data": {
            "text/plain": [
              "array([[[1., 1., 1.],\n",
              "        [1., 1., 1.]],\n",
              "\n",
              "       [[1., 1., 1.],\n",
              "        [1., 1., 1.]],\n",
              "\n",
              "       [[1., 1., 1.],\n",
              "        [1., 1., 1.]],\n",
              "\n",
              "       [[1., 1., 1.],\n",
              "        [1., 1., 1.]],\n",
              "\n",
              "       [[1., 1., 1.],\n",
              "        [1., 1., 1.]]])"
            ]
          },
          "metadata": {},
          "execution_count": 27
        }
      ],
      "source": [
        "# 3 dimensões\n",
        "e_um_3D = np.ones((5, 2, 3))\n",
        "e_um_3D"
      ]
    },
    {
      "cell_type": "code",
      "execution_count": 28,
      "metadata": {
        "collapsed": true,
        "colab": {
          "base_uri": "https://localhost:8080/"
        },
        "id": "SHMx86x1ZrV2",
        "outputId": "4579309d-52f8-441f-cf4b-35456b0b71a8"
      },
      "outputs": [
        {
          "output_type": "execute_result",
          "data": {
            "text/plain": [
              "array([[[[1., 1., 1.],\n",
              "         [1., 1., 1.]],\n",
              "\n",
              "        [[1., 1., 1.],\n",
              "         [1., 1., 1.]],\n",
              "\n",
              "        [[1., 1., 1.],\n",
              "         [1., 1., 1.]],\n",
              "\n",
              "        [[1., 1., 1.],\n",
              "         [1., 1., 1.]]],\n",
              "\n",
              "\n",
              "       [[[1., 1., 1.],\n",
              "         [1., 1., 1.]],\n",
              "\n",
              "        [[1., 1., 1.],\n",
              "         [1., 1., 1.]],\n",
              "\n",
              "        [[1., 1., 1.],\n",
              "         [1., 1., 1.]],\n",
              "\n",
              "        [[1., 1., 1.],\n",
              "         [1., 1., 1.]]],\n",
              "\n",
              "\n",
              "       [[[1., 1., 1.],\n",
              "         [1., 1., 1.]],\n",
              "\n",
              "        [[1., 1., 1.],\n",
              "         [1., 1., 1.]],\n",
              "\n",
              "        [[1., 1., 1.],\n",
              "         [1., 1., 1.]],\n",
              "\n",
              "        [[1., 1., 1.],\n",
              "         [1., 1., 1.]]]])"
            ]
          },
          "metadata": {},
          "execution_count": 28
        }
      ],
      "source": [
        "# 4 dimensões\n",
        "f_um_4D = np.ones((3, 4, 2, 3))\n",
        "f_um_4D"
      ]
    },
    {
      "cell_type": "markdown",
      "metadata": {
        "id": "ey0GiNPEZrV2"
      },
      "source": [
        "### Arrays preenchidos com faixas de valores - arange()"
      ]
    },
    {
      "cell_type": "code",
      "execution_count": 29,
      "metadata": {
        "collapsed": true,
        "colab": {
          "base_uri": "https://localhost:8080/"
        },
        "id": "q_1nk7kkZrV2",
        "outputId": "d1788e50-ce0a-4231-a268-6d13c2086c0d"
      },
      "outputs": [
        {
          "output_type": "execute_result",
          "data": {
            "text/plain": [
              "array([0, 1, 2, 3, 4, 5, 6, 7, 8, 9])"
            ]
          },
          "metadata": {},
          "execution_count": 29
        }
      ],
      "source": [
        "# Cria um ndarray preenchido com  os elementos de 0 a n-1\n",
        "# No exemplo abaixo vai criar um ndarray com os elementos 0 a 9\n",
        "a1D = np.arange(10)\n",
        "a1D"
      ]
    },
    {
      "cell_type": "code",
      "execution_count": 30,
      "metadata": {
        "collapsed": true,
        "colab": {
          "base_uri": "https://localhost:8080/"
        },
        "id": "qL0UdMOyZrV3",
        "outputId": "b533cfab-4994-4b06-c183-1ecd118ee21a"
      },
      "outputs": [
        {
          "output_type": "execute_result",
          "data": {
            "text/plain": [
              "array([ 5,  6,  7,  8,  9, 10, 11, 12, 13, 14])"
            ]
          },
          "metadata": {},
          "execution_count": 30
        }
      ],
      "source": [
        "# Cria um ndarray preenchido com os elementos variando entre o valor inicial e o valor final - 1\n",
        "# Nesse exemplo vai criar um array com os elementos de 5 a 14\n",
        "b1D = np.arange(5, 15)\n",
        "b1D"
      ]
    },
    {
      "cell_type": "code",
      "execution_count": 31,
      "metadata": {
        "collapsed": true,
        "colab": {
          "base_uri": "https://localhost:8080/"
        },
        "id": "uAI05LgUZrV3",
        "outputId": "dec415b1-c78f-4262-8d4e-1cf08df9c2b3"
      },
      "outputs": [
        {
          "output_type": "execute_result",
          "data": {
            "text/plain": [
              "array([ 5, 15, 25, 35, 45, 55, 65, 75, 85, 95])"
            ]
          },
          "metadata": {},
          "execution_count": 31
        }
      ],
      "source": [
        "# Cria um ndarray preenchido com os elementos variando entre o valor inicial e o valor final - 1, com um determinado step\n",
        "# No exemplo vai criar um array com os elementos de 5 a 100, com passo 10. Ou seja: 5, 15, 25...95\n",
        "c1D = np.arange(5,100, 10)\n",
        "c1D"
      ]
    },
    {
      "cell_type": "markdown",
      "metadata": {
        "id": "Bg8z2S6VZrV3"
      },
      "source": [
        "### Criando arrays preenchidos com valores igualmente espaçados - linspace()"
      ]
    },
    {
      "cell_type": "code",
      "execution_count": 32,
      "metadata": {
        "collapsed": true,
        "colab": {
          "base_uri": "https://localhost:8080/"
        },
        "id": "LhdOw7JWZrV3",
        "outputId": "dcf576f4-eab3-4947-d508-2d28fcbc770e"
      },
      "outputs": [
        {
          "output_type": "execute_result",
          "data": {
            "text/plain": [
              "array([ 0., 10.])"
            ]
          },
          "metadata": {},
          "execution_count": 32
        }
      ],
      "source": [
        "# Cria um array com n elementos entre o valor inicial e valor final, igualmente espaçados\n",
        "d1D = np.linspace(0,10, 2) # Cria um array com 2 valores entre 0 e 10\n",
        "d1D"
      ]
    },
    {
      "cell_type": "code",
      "execution_count": 33,
      "metadata": {
        "collapsed": true,
        "colab": {
          "base_uri": "https://localhost:8080/"
        },
        "id": "_Eu5E16CZrV3",
        "outputId": "da1a6be1-16f8-4382-fd1d-677c35177928"
      },
      "outputs": [
        {
          "output_type": "execute_result",
          "data": {
            "text/plain": [
              "array([ 0.        ,  3.33333333,  6.66666667, 10.        ])"
            ]
          },
          "metadata": {},
          "execution_count": 33
        }
      ],
      "source": [
        "e1D = np.linspace(0,10, 4) # Cria um array com 2 valores entre 0 e 10\n",
        "e1D"
      ]
    },
    {
      "cell_type": "code",
      "execution_count": 34,
      "metadata": {
        "collapsed": true,
        "colab": {
          "base_uri": "https://localhost:8080/"
        },
        "id": "4jdG-7iQZrV3",
        "outputId": "ef17c789-919d-45ef-bf1c-0ed3d8059b1f"
      },
      "outputs": [
        {
          "output_type": "execute_result",
          "data": {
            "text/plain": [
              "array([   1.        ,   21.3877551 ,   41.7755102 ,   62.16326531,\n",
              "         82.55102041,  102.93877551,  123.32653061,  143.71428571,\n",
              "        164.10204082,  184.48979592,  204.87755102,  225.26530612,\n",
              "        245.65306122,  266.04081633,  286.42857143,  306.81632653,\n",
              "        327.20408163,  347.59183673,  367.97959184,  388.36734694,\n",
              "        408.75510204,  429.14285714,  449.53061224,  469.91836735,\n",
              "        490.30612245,  510.69387755,  531.08163265,  551.46938776,\n",
              "        571.85714286,  592.24489796,  612.63265306,  633.02040816,\n",
              "        653.40816327,  673.79591837,  694.18367347,  714.57142857,\n",
              "        734.95918367,  755.34693878,  775.73469388,  796.12244898,\n",
              "        816.51020408,  836.89795918,  857.28571429,  877.67346939,\n",
              "        898.06122449,  918.44897959,  938.83673469,  959.2244898 ,\n",
              "        979.6122449 , 1000.        ])"
            ]
          },
          "metadata": {},
          "execution_count": 34
        }
      ],
      "source": [
        "f1D = np.linspace(1,1000) # Se não for passada a quantidade de elementos, o padrão é gerar 50 elementos\n",
        "f1D"
      ]
    },
    {
      "cell_type": "code",
      "execution_count": 35,
      "metadata": {
        "collapsed": true,
        "colab": {
          "base_uri": "https://localhost:8080/"
        },
        "id": "OIHDcoPJZrV3",
        "outputId": "c46c618a-a7e1-4e42-b943-4e31cf35e6e0"
      },
      "outputs": [
        {
          "output_type": "execute_result",
          "data": {
            "text/plain": [
              "array([   1,   21,   41,   62,   82,  102,  123,  143,  164,  184,  204,\n",
              "        225,  245,  266,  286,  306,  327,  347,  367,  388,  408,  429,\n",
              "        449,  469,  490,  510,  531,  551,  571,  592,  612,  633,  653,\n",
              "        673,  694,  714,  734,  755,  775,  796,  816,  836,  857,  877,\n",
              "        898,  918,  938,  959,  979, 1000])"
            ]
          },
          "metadata": {},
          "execution_count": 35
        }
      ],
      "source": [
        "g1D = np.linspace(1,1000, dtype = int) # gerando int, a função simplesmente corta as casas decimais\n",
        "g1D"
      ]
    },
    {
      "cell_type": "code",
      "execution_count": 36,
      "metadata": {
        "collapsed": true,
        "colab": {
          "base_uri": "https://localhost:8080/"
        },
        "id": "aDNa2n3JZrV4",
        "outputId": "33bddfec-4356-4390-8e47-63decd10de3d"
      },
      "outputs": [
        {
          "output_type": "execute_result",
          "data": {
            "text/plain": [
              "array([ 0.        ,  5.55555556, 11.11111111, 16.66666667, 22.22222222,\n",
              "       27.77777778, 33.33333333, 38.88888889, 44.44444444, 50.        ])"
            ]
          },
          "metadata": {},
          "execution_count": 36
        }
      ],
      "source": [
        "h1D = np.linspace(0,50, 10, endpoint = True) # O valor final é incluído\n",
        "h1D\n"
      ]
    },
    {
      "cell_type": "code",
      "execution_count": 37,
      "metadata": {
        "collapsed": true,
        "colab": {
          "base_uri": "https://localhost:8080/"
        },
        "id": "Gvy4MD2DZrV4",
        "outputId": "7c39fc7d-957c-4889-9e75-3eb4ee230ec9"
      },
      "outputs": [
        {
          "output_type": "execute_result",
          "data": {
            "text/plain": [
              "array([ 0.,  5., 10., 15., 20., 25., 30., 35., 40., 45.])"
            ]
          },
          "metadata": {},
          "execution_count": 37
        }
      ],
      "source": [
        "i1D = np.linspace(0,50, 10, endpoint = False) # O valor final não é incluído\n",
        "i1D"
      ]
    },
    {
      "cell_type": "markdown",
      "metadata": {
        "id": "x_tD4REBZrV4"
      },
      "source": [
        "### Criando arrays preenchidos com um único valor passado por parâmetro - full()"
      ]
    },
    {
      "cell_type": "code",
      "execution_count": 38,
      "metadata": {
        "collapsed": true,
        "colab": {
          "base_uri": "https://localhost:8080/"
        },
        "id": "bxqm4wYNZrV4",
        "outputId": "63b78db9-ebdf-4b55-818a-1f4584544273"
      },
      "outputs": [
        {
          "output_type": "execute_result",
          "data": {
            "text/plain": [
              "array([5, 5, 5, 5, 5, 5, 5, 5, 5, 5])"
            ]
          },
          "metadata": {},
          "execution_count": 38
        }
      ],
      "source": [
        "a1D = np.full(10, 5) # ndarray contendo 10 números 5\n",
        "a1D"
      ]
    },
    {
      "cell_type": "code",
      "execution_count": 39,
      "metadata": {
        "collapsed": true,
        "colab": {
          "base_uri": "https://localhost:8080/"
        },
        "id": "lj-HE_mMZrV4",
        "outputId": "1d24c690-d5a4-49e2-8ff5-87b0336eb2d2"
      },
      "outputs": [
        {
          "output_type": "execute_result",
          "data": {
            "text/plain": [
              "array([[3, 3, 3, 3, 3],\n",
              "       [3, 3, 3, 3, 3],\n",
              "       [3, 3, 3, 3, 3]])"
            ]
          },
          "metadata": {},
          "execution_count": 39
        }
      ],
      "source": [
        "a2D = np.full((3, 5), 3)  # ndarray de 3 linhas e 5 colunas contendo o número 3\n",
        "a2D"
      ]
    },
    {
      "cell_type": "code",
      "execution_count": 40,
      "metadata": {
        "collapsed": true,
        "colab": {
          "base_uri": "https://localhost:8080/"
        },
        "id": "qWPU9IgPZrV4",
        "outputId": "cc7e0fd6-ff9a-48fb-875e-6057bfd1d956"
      },
      "outputs": [
        {
          "output_type": "execute_result",
          "data": {
            "text/plain": [
              "array([[[-1, -1, -1, -1, -1, -1, -1, -1],\n",
              "        [-1, -1, -1, -1, -1, -1, -1, -1],\n",
              "        [-1, -1, -1, -1, -1, -1, -1, -1],\n",
              "        [-1, -1, -1, -1, -1, -1, -1, -1],\n",
              "        [-1, -1, -1, -1, -1, -1, -1, -1]],\n",
              "\n",
              "       [[-1, -1, -1, -1, -1, -1, -1, -1],\n",
              "        [-1, -1, -1, -1, -1, -1, -1, -1],\n",
              "        [-1, -1, -1, -1, -1, -1, -1, -1],\n",
              "        [-1, -1, -1, -1, -1, -1, -1, -1],\n",
              "        [-1, -1, -1, -1, -1, -1, -1, -1]],\n",
              "\n",
              "       [[-1, -1, -1, -1, -1, -1, -1, -1],\n",
              "        [-1, -1, -1, -1, -1, -1, -1, -1],\n",
              "        [-1, -1, -1, -1, -1, -1, -1, -1],\n",
              "        [-1, -1, -1, -1, -1, -1, -1, -1],\n",
              "        [-1, -1, -1, -1, -1, -1, -1, -1]]])"
            ]
          },
          "metadata": {},
          "execution_count": 40
        }
      ],
      "source": [
        "a3D = np.full((3, 5, 8), -1)  # ndarray de 3 páginas, 5 linhas e 8 colunas contendo o número -1\n",
        "a3D"
      ]
    },
    {
      "cell_type": "markdown",
      "metadata": {
        "id": "5V7i_i1aZrV4"
      },
      "source": [
        "### Criando matriz identidade - eye()"
      ]
    },
    {
      "cell_type": "code",
      "execution_count": 41,
      "metadata": {
        "collapsed": true,
        "colab": {
          "base_uri": "https://localhost:8080/"
        },
        "id": "zumd-xycZrV4",
        "outputId": "e1b8262e-4c8f-421c-a33d-6e528c236f44"
      },
      "outputs": [
        {
          "output_type": "execute_result",
          "data": {
            "text/plain": [
              "array([[1., 0., 0., 0., 0.],\n",
              "       [0., 1., 0., 0., 0.],\n",
              "       [0., 0., 1., 0., 0.],\n",
              "       [0., 0., 0., 1., 0.],\n",
              "       [0., 0., 0., 0., 1.]])"
            ]
          },
          "metadata": {},
          "execution_count": 41
        }
      ],
      "source": [
        "ident = np.eye(5) # Cria uma matriz 5x5 preenchida com 1s na diagonal principal e 0 nas posições restantes\n",
        "ident"
      ]
    },
    {
      "cell_type": "markdown",
      "metadata": {
        "id": "YAWNIQESZrV4"
      },
      "source": [
        "### Criando matriz com elementos aleatórios"
      ]
    },
    {
      "cell_type": "code",
      "execution_count": 42,
      "metadata": {
        "collapsed": true,
        "colab": {
          "base_uri": "https://localhost:8080/"
        },
        "id": "Ri6ujUIXZrV4",
        "outputId": "5bb563b6-40a2-4945-b9e0-45550f69e121"
      },
      "outputs": [
        {
          "output_type": "execute_result",
          "data": {
            "text/plain": [
              "array([63, 19, 97, 67,  7, 45, 72, 64, 11, 73])"
            ]
          },
          "metadata": {},
          "execution_count": 42
        }
      ],
      "source": [
        "a1D = np.random.randint(0, 100, 10) # Cria um ndarray com 10 elementos entre 0 e 99\n",
        "a1D"
      ]
    },
    {
      "cell_type": "code",
      "execution_count": 43,
      "metadata": {
        "collapsed": true,
        "colab": {
          "base_uri": "https://localhost:8080/"
        },
        "id": "udNOSLGGZrV5",
        "outputId": "2da38110-2ff9-49e8-d376-5783c7f06e1e"
      },
      "outputs": [
        {
          "output_type": "execute_result",
          "data": {
            "text/plain": [
              "array([[251, 459, 300,  34, 460],\n",
              "       [263, 399, 449, 166, 266],\n",
              "       [473, 331, 400, 357, 439],\n",
              "       [ 92,  87,  40, 309, 340]])"
            ]
          },
          "metadata": {},
          "execution_count": 43
        }
      ],
      "source": [
        "a2D = np.random.randint(1, 500, (4,5))\n",
        "a2D"
      ]
    },
    {
      "cell_type": "code",
      "execution_count": 44,
      "metadata": {
        "collapsed": true,
        "colab": {
          "base_uri": "https://localhost:8080/"
        },
        "id": "hGbKosY2ZrV5",
        "outputId": "66aebccf-e952-4064-f56c-4b74b70322e9"
      },
      "outputs": [
        {
          "output_type": "execute_result",
          "data": {
            "text/plain": [
              "array([[[21, 27,  2, 56, 41,  6]],\n",
              "\n",
              "       [[58, 13, 28, 16, 27, 42]],\n",
              "\n",
              "       [[56, 38, 37,  3, 18, 16]],\n",
              "\n",
              "       [[58, 21, 60, 30, 53, 48]],\n",
              "\n",
              "       [[58, 46, 54, 59,  7, 54]],\n",
              "\n",
              "       [[34, 47, 19, 12,  6, 17]],\n",
              "\n",
              "       [[19, 52, 49, 15, 34, 59]],\n",
              "\n",
              "       [[43,  1, 22, 43, 25, 15]],\n",
              "\n",
              "       [[35, 39, 54, 57, 59, 33]],\n",
              "\n",
              "       [[42, 18, 45, 28, 39,  1]]])"
            ]
          },
          "metadata": {},
          "execution_count": 44
        }
      ],
      "source": [
        "# Gerando 10 combinações para a mega-sena\n",
        "# Valores vão de 1 a 60, 10 páginas, 1 linha, 6 colunas\n",
        "a3D = np.random.randint(1,61,(10,1,6))\n",
        "a3D"
      ]
    },
    {
      "cell_type": "code",
      "execution_count": 45,
      "metadata": {
        "collapsed": true,
        "colab": {
          "base_uri": "https://localhost:8080/"
        },
        "id": "Jse3sH2tZrV5",
        "outputId": "66605326-50d2-43d3-a541-0d350358d65d"
      },
      "outputs": [
        {
          "output_type": "execute_result",
          "data": {
            "text/plain": [
              "array([0.16553692, 0.63132466, 0.89808038, 0.69277678, 0.90032675,\n",
              "       0.02518548, 0.49996915, 0.44508386, 0.38139462, 0.23374955])"
            ]
          },
          "metadata": {},
          "execution_count": 45
        }
      ],
      "source": [
        "b1D = np.random.random(10) # Cria um ndarray contendo 10 elementos aleatórios entre 0 e 1\n",
        "b1D"
      ]
    },
    {
      "cell_type": "code",
      "execution_count": 46,
      "metadata": {
        "collapsed": true,
        "colab": {
          "base_uri": "https://localhost:8080/"
        },
        "id": "2MB5Osz0ZrV5",
        "outputId": "ff837c3b-1c7d-4540-95b8-3a86ff39ec40"
      },
      "outputs": [
        {
          "output_type": "execute_result",
          "data": {
            "text/plain": [
              "array([[0.40763247, 0.76595078, 0.03143229, 0.87922022, 0.7020115 ],\n",
              "       [0.4008585 , 0.08045018, 0.14988771, 0.96761694, 0.24131655],\n",
              "       [0.39257356, 0.29010415, 0.6987899 , 0.65608365, 0.2515346 ],\n",
              "       [0.87775381, 0.72718678, 0.41337612, 0.68622634, 0.55070723]])"
            ]
          },
          "metadata": {},
          "execution_count": 46
        }
      ],
      "source": [
        "c2D = np.random.random((4,5)) # Cria um ndarray de 4 linhas e 5 colunas contendo elementos aleatórios entre 0 e 1\n",
        "c2D"
      ]
    }
  ],
  "metadata": {
    "kernelspec": {
      "display_name": "Python 3",
      "language": "python",
      "name": "python3"
    },
    "language_info": {
      "codemirror_mode": {
        "name": "ipython",
        "version": 3
      },
      "file_extension": ".py",
      "mimetype": "text/x-python",
      "name": "python",
      "nbconvert_exporter": "python",
      "pygments_lexer": "ipython3",
      "version": "3.6.3"
    },
    "colab": {
      "provenance": []
    }
  },
  "nbformat": 4,
  "nbformat_minor": 0
}
