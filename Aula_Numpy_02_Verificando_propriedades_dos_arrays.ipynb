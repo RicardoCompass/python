{
  "cells": [
    {
      "cell_type": "markdown",
      "metadata": {
        "id": "view-in-github",
        "colab_type": "text"
      },
      "source": [
        "<a href=\"https://colab.research.google.com/github/aliceylu/python/blob/main/Aula_Numpy_02_Verificando_propriedades_dos_arrays.ipynb\" target=\"_parent\"><img src=\"https://colab.research.google.com/assets/colab-badge.svg\" alt=\"Open In Colab\"/></a>"
      ]
    },
    {
      "cell_type": "markdown",
      "metadata": {
        "id": "UBcfXtAGaRxM"
      },
      "source": [
        "# Verificando propriedades de um ndarray"
      ]
    },
    {
      "cell_type": "code",
      "execution_count": 1,
      "metadata": {
        "id": "BFz_RO9AaRxO"
      },
      "outputs": [],
      "source": [
        "# Importando o NumPy\n",
        "import numpy as np"
      ]
    },
    {
      "cell_type": "code",
      "execution_count": 2,
      "metadata": {
        "colab": {
          "base_uri": "https://localhost:8080/"
        },
        "id": "WjSQ6O6SaRxP",
        "outputId": "1d779314-52aa-45c0-f001-34f00ca2e53e"
      },
      "outputs": [
        {
          "output_type": "execute_result",
          "data": {
            "text/plain": [
              "array([4, 2, 1, 4, 4, 6, 2, 9, 6, 2])"
            ]
          },
          "metadata": {},
          "execution_count": 2
        }
      ],
      "source": [
        "# Cria um ndarray com 10 elementos entre 0 e 9\n",
        "a1D = np.random.randint(0, 10, 10)\n",
        "a1D"
      ]
    },
    {
      "cell_type": "code",
      "execution_count": 3,
      "metadata": {
        "scrolled": true,
        "colab": {
          "base_uri": "https://localhost:8080/"
        },
        "id": "h6eCFYkcaRxP",
        "outputId": "306b39b1-46be-4f88-c31e-0fc6c8164d07"
      },
      "outputs": [
        {
          "output_type": "execute_result",
          "data": {
            "text/plain": [
              "array([[  9,  78,  29,  27,   5],\n",
              "       [ 18,  30,  59,  25,  30],\n",
              "       [ 46,  74,  97,  83, 100],\n",
              "       [ 45,  63,  54,  37,  70]])"
            ]
          },
          "metadata": {},
          "execution_count": 3
        }
      ],
      "source": [
        "a2D = np.random.randint(1, 101, (4,5)) # Cria um ndarray de 4 linhas x 5 colunas com elementos entre 1 e 100\n",
        "a2D"
      ]
    },
    {
      "cell_type": "code",
      "execution_count": 4,
      "metadata": {
        "colab": {
          "base_uri": "https://localhost:8080/"
        },
        "id": "PSzIhgBVaRxP",
        "outputId": "6f588af2-3105-4f99-89e6-9f8fab86e0a1"
      },
      "outputs": [
        {
          "output_type": "execute_result",
          "data": {
            "text/plain": [
              "array([[[0.40701911, 0.32762304, 0.85386087, 0.46494834, 0.34552711],\n",
              "        [0.76532226, 0.0595926 , 0.8149593 , 0.09146872, 0.36656679],\n",
              "        [0.19364469, 0.74397505, 0.45883761, 0.00597793, 0.58269711],\n",
              "        [0.11641762, 0.84528394, 0.64857901, 0.04333571, 0.58818136]],\n",
              "\n",
              "       [[0.90125598, 0.73345489, 0.23247886, 0.96806256, 0.20707457],\n",
              "        [0.51659697, 0.53108092, 0.7719108 , 0.73066541, 0.4466398 ],\n",
              "        [0.91325233, 0.5153609 , 0.53406668, 0.70883018, 0.42974787],\n",
              "        [0.33944542, 0.15886368, 0.83561217, 0.80016797, 0.17478777]],\n",
              "\n",
              "       [[0.31936389, 0.57512039, 0.5103634 , 0.90019683, 0.68592384],\n",
              "        [0.04490373, 0.0569804 , 0.50132156, 0.25036805, 0.03260688],\n",
              "        [0.56727853, 0.7933424 , 0.48995507, 0.53263481, 0.8117603 ],\n",
              "        [0.34489874, 0.4036507 , 0.93099704, 0.10416625, 0.75738269]]])"
            ]
          },
          "metadata": {},
          "execution_count": 4
        }
      ],
      "source": [
        "a3D = np.random.random((3,4,5)) # Cria um ndarray de 3 páginas x 4 linhas x 5 colunas com elementos entre 0 e 1\n",
        "a3D"
      ]
    },
    {
      "cell_type": "markdown",
      "metadata": {
        "id": "CvaCPN1haRxP"
      },
      "source": [
        "### Verificando o formato e quantidade de dimensões de um array - shape e dim"
      ]
    },
    {
      "cell_type": "code",
      "execution_count": 5,
      "metadata": {
        "colab": {
          "base_uri": "https://localhost:8080/"
        },
        "id": "M2BXLED8aRxP",
        "outputId": "76eeb515-f055-4d82-aeb7-aaffe08fcf83"
      },
      "outputs": [
        {
          "output_type": "execute_result",
          "data": {
            "text/plain": [
              "(10,)"
            ]
          },
          "metadata": {},
          "execution_count": 5
        }
      ],
      "source": [
        "# A propriedade shape retorna o formato do array\n",
        "a1D.shape"
      ]
    },
    {
      "cell_type": "code",
      "execution_count": 6,
      "metadata": {
        "colab": {
          "base_uri": "https://localhost:8080/"
        },
        "id": "UTeCrNWVaRxQ",
        "outputId": "43820ef7-c307-4dcc-9817-3040874185e4"
      },
      "outputs": [
        {
          "output_type": "execute_result",
          "data": {
            "text/plain": [
              "(4, 5)"
            ]
          },
          "metadata": {},
          "execution_count": 6
        }
      ],
      "source": [
        "a2D.shape"
      ]
    },
    {
      "cell_type": "code",
      "execution_count": 7,
      "metadata": {
        "colab": {
          "base_uri": "https://localhost:8080/"
        },
        "id": "9F2BkUOwaRxQ",
        "outputId": "2f43e982-a36f-4e81-cb33-0c66035ac422"
      },
      "outputs": [
        {
          "output_type": "execute_result",
          "data": {
            "text/plain": [
              "(3, 4, 5)"
            ]
          },
          "metadata": {},
          "execution_count": 7
        }
      ],
      "source": [
        "a3D.shape"
      ]
    },
    {
      "cell_type": "code",
      "execution_count": 8,
      "metadata": {
        "colab": {
          "base_uri": "https://localhost:8080/"
        },
        "id": "f7d9AEQvaRxQ",
        "outputId": "7a4208a8-3ea3-400f-9c66-ece67b289534"
      },
      "outputs": [
        {
          "output_type": "execute_result",
          "data": {
            "text/plain": [
              "1"
            ]
          },
          "metadata": {},
          "execution_count": 8
        }
      ],
      "source": [
        "# A propriedade ndim retorna o números de dimensões do array\n",
        "a1D.ndim"
      ]
    },
    {
      "cell_type": "code",
      "execution_count": 9,
      "metadata": {
        "colab": {
          "base_uri": "https://localhost:8080/"
        },
        "id": "5yCNH01vaRxQ",
        "outputId": "1e1e3e8d-fba0-4687-9496-f6b8e07bc265"
      },
      "outputs": [
        {
          "output_type": "execute_result",
          "data": {
            "text/plain": [
              "2"
            ]
          },
          "metadata": {},
          "execution_count": 9
        }
      ],
      "source": [
        "a2D.ndim"
      ]
    },
    {
      "cell_type": "code",
      "execution_count": 10,
      "metadata": {
        "colab": {
          "base_uri": "https://localhost:8080/"
        },
        "id": "oetkxP_TaRxQ",
        "outputId": "cdd49a5d-f7df-4bc9-e61c-69b2f791f75e"
      },
      "outputs": [
        {
          "output_type": "execute_result",
          "data": {
            "text/plain": [
              "3"
            ]
          },
          "metadata": {},
          "execution_count": 10
        }
      ],
      "source": [
        "\n",
        "\n",
        "a3D.ndim"
      ]
    },
    {
      "cell_type": "markdown",
      "metadata": {
        "id": "qxPQQfPmaRxQ"
      },
      "source": [
        "### Verificando o tamanho das dimensões de um array - len"
      ]
    },
    {
      "cell_type": "code",
      "execution_count": 11,
      "metadata": {
        "colab": {
          "base_uri": "https://localhost:8080/"
        },
        "id": "CoPAFwE7aRxQ",
        "outputId": "7cf0e74e-8653-4d5d-8209-7347be35bb7e"
      },
      "outputs": [
        {
          "output_type": "execute_result",
          "data": {
            "text/plain": [
              "10"
            ]
          },
          "metadata": {},
          "execution_count": 11
        }
      ],
      "source": [
        "len(a1D) # Retorna o tamanho da 1a dimensão (quantidade de colunas)"
      ]
    },
    {
      "cell_type": "code",
      "execution_count": 12,
      "metadata": {
        "colab": {
          "base_uri": "https://localhost:8080/"
        },
        "id": "LMO2PeT1aRxQ",
        "outputId": "c2731c34-58e1-4dc0-8b5f-9024a75a4d21"
      },
      "outputs": [
        {
          "output_type": "execute_result",
          "data": {
            "text/plain": [
              "4"
            ]
          },
          "metadata": {},
          "execution_count": 12
        }
      ],
      "source": [
        "len(a2D) # Retorna o tamanho da 1a dimensão (quantidade de linhas)"
      ]
    },
    {
      "cell_type": "code",
      "execution_count": 13,
      "metadata": {
        "colab": {
          "base_uri": "https://localhost:8080/"
        },
        "id": "Mbx389ylaRxQ",
        "outputId": "9c9cd1b2-8da4-4a54-b4e8-0202f9473c9d"
      },
      "outputs": [
        {
          "output_type": "execute_result",
          "data": {
            "text/plain": [
              "5"
            ]
          },
          "metadata": {},
          "execution_count": 13
        }
      ],
      "source": [
        "len(a2D[0]) # Retorna o tamanho da 2a dimensão (quantidade de colunas)"
      ]
    },
    {
      "cell_type": "code",
      "execution_count": 14,
      "metadata": {
        "colab": {
          "base_uri": "https://localhost:8080/"
        },
        "id": "kYSPPvAtaRxR",
        "outputId": "49b78413-20fa-44ed-bac6-652d8659d78f"
      },
      "outputs": [
        {
          "output_type": "execute_result",
          "data": {
            "text/plain": [
              "3"
            ]
          },
          "metadata": {},
          "execution_count": 14
        }
      ],
      "source": [
        "len(a3D) # Retorna o tamanho da 1a dimensão (quantidade de páginas)"
      ]
    },
    {
      "cell_type": "code",
      "execution_count": 15,
      "metadata": {
        "colab": {
          "base_uri": "https://localhost:8080/"
        },
        "id": "8RqFaWZHaRxR",
        "outputId": "b28fea4f-a2ba-4c0a-f156-95088a0c8512"
      },
      "outputs": [
        {
          "output_type": "execute_result",
          "data": {
            "text/plain": [
              "4"
            ]
          },
          "metadata": {},
          "execution_count": 15
        }
      ],
      "source": [
        "len(a3D[0]) # Retorna o tamanho da 2a dimensão (quantidade de linhas)"
      ]
    },
    {
      "cell_type": "code",
      "execution_count": 16,
      "metadata": {
        "colab": {
          "base_uri": "https://localhost:8080/"
        },
        "id": "kx0pn2p8aRxR",
        "outputId": "5435e7bb-f33f-4f45-ec61-4fd462629a07"
      },
      "outputs": [
        {
          "output_type": "execute_result",
          "data": {
            "text/plain": [
              "5"
            ]
          },
          "metadata": {},
          "execution_count": 16
        }
      ],
      "source": [
        "len(a3D[0][0]) # Retorna o tamanho da 3a dimensão (quantidade de colunas)"
      ]
    },
    {
      "cell_type": "markdown",
      "metadata": {
        "id": "-6K2V4ueaRxR"
      },
      "source": [
        "### Verificando a quantidade de elementos de um array - size"
      ]
    },
    {
      "cell_type": "code",
      "execution_count": 17,
      "metadata": {
        "colab": {
          "base_uri": "https://localhost:8080/"
        },
        "id": "iBs5zt8DaRxR",
        "outputId": "eb517bb8-5c00-4a03-db23-c6545631cc6d"
      },
      "outputs": [
        {
          "output_type": "execute_result",
          "data": {
            "text/plain": [
              "10"
            ]
          },
          "metadata": {},
          "execution_count": 17
        }
      ],
      "source": [
        "a1D.size"
      ]
    },
    {
      "cell_type": "code",
      "execution_count": 18,
      "metadata": {
        "colab": {
          "base_uri": "https://localhost:8080/"
        },
        "id": "bu2qKdXFaRxR",
        "outputId": "0fe65ca0-3fb6-4eb4-b9c3-fc55e726fde0"
      },
      "outputs": [
        {
          "output_type": "execute_result",
          "data": {
            "text/plain": [
              "20"
            ]
          },
          "metadata": {},
          "execution_count": 18
        }
      ],
      "source": [
        "a2D.size"
      ]
    },
    {
      "cell_type": "code",
      "execution_count": 19,
      "metadata": {
        "colab": {
          "base_uri": "https://localhost:8080/"
        },
        "id": "oEfZAoubaRxR",
        "outputId": "a3b50bb1-978a-4a7e-bb6d-e75a583d727e"
      },
      "outputs": [
        {
          "output_type": "execute_result",
          "data": {
            "text/plain": [
              "60"
            ]
          },
          "metadata": {},
          "execution_count": 19
        }
      ],
      "source": [
        "a3D.size"
      ]
    },
    {
      "cell_type": "markdown",
      "metadata": {
        "id": "vwprVMOiaRxR"
      },
      "source": [
        "### Verificando o tipo dos elementos um array - dtype"
      ]
    },
    {
      "cell_type": "code",
      "execution_count": 20,
      "metadata": {
        "colab": {
          "base_uri": "https://localhost:8080/"
        },
        "id": "AUOq5c50aRxR",
        "outputId": "dcba6ca8-79e0-4ee6-a1fd-a3010ae46516"
      },
      "outputs": [
        {
          "output_type": "execute_result",
          "data": {
            "text/plain": [
              "dtype('int64')"
            ]
          },
          "metadata": {},
          "execution_count": 20
        }
      ],
      "source": [
        "a1D.dtype"
      ]
    },
    {
      "cell_type": "code",
      "execution_count": 21,
      "metadata": {
        "colab": {
          "base_uri": "https://localhost:8080/",
          "height": 35
        },
        "id": "NWnUYpxyaRxR",
        "outputId": "51a25e13-5af1-4e4e-e2f6-c7ad3c22ff9a"
      },
      "outputs": [
        {
          "output_type": "execute_result",
          "data": {
            "text/plain": [
              "'int64'"
            ],
            "application/vnd.google.colaboratory.intrinsic+json": {
              "type": "string"
            }
          },
          "metadata": {},
          "execution_count": 21
        }
      ],
      "source": [
        "a1D.dtype.name"
      ]
    },
    {
      "cell_type": "code",
      "execution_count": 22,
      "metadata": {
        "colab": {
          "base_uri": "https://localhost:8080/"
        },
        "id": "e3JEcIWYaRxS",
        "outputId": "4d9f6592-1e3e-45e5-da72-c3c8d7f20d92"
      },
      "outputs": [
        {
          "output_type": "execute_result",
          "data": {
            "text/plain": [
              "dtype('int64')"
            ]
          },
          "metadata": {},
          "execution_count": 22
        }
      ],
      "source": [
        "a2D.dtype"
      ]
    },
    {
      "cell_type": "code",
      "execution_count": 23,
      "metadata": {
        "colab": {
          "base_uri": "https://localhost:8080/",
          "height": 35
        },
        "id": "WHLILYJwaRxS",
        "outputId": "3a379d73-7e8e-4b37-a390-7876d0206412"
      },
      "outputs": [
        {
          "output_type": "execute_result",
          "data": {
            "text/plain": [
              "'int64'"
            ],
            "application/vnd.google.colaboratory.intrinsic+json": {
              "type": "string"
            }
          },
          "metadata": {},
          "execution_count": 23
        }
      ],
      "source": [
        "a2D.dtype.name"
      ]
    },
    {
      "cell_type": "code",
      "execution_count": 24,
      "metadata": {
        "colab": {
          "base_uri": "https://localhost:8080/"
        },
        "id": "0KI44OUtaRxS",
        "outputId": "ee34109b-5017-438c-9e84-31ee1775a7fc"
      },
      "outputs": [
        {
          "output_type": "execute_result",
          "data": {
            "text/plain": [
              "dtype('float64')"
            ]
          },
          "metadata": {},
          "execution_count": 24
        }
      ],
      "source": [
        "a3D.dtype"
      ]
    },
    {
      "cell_type": "code",
      "execution_count": 25,
      "metadata": {
        "colab": {
          "base_uri": "https://localhost:8080/",
          "height": 35
        },
        "id": "Q1hWRwt1aRxS",
        "outputId": "5e94f34d-561f-416f-b23a-908e7360fe1d"
      },
      "outputs": [
        {
          "output_type": "execute_result",
          "data": {
            "text/plain": [
              "'float64'"
            ],
            "application/vnd.google.colaboratory.intrinsic+json": {
              "type": "string"
            }
          },
          "metadata": {},
          "execution_count": 25
        }
      ],
      "source": [
        "a3D.dtype.name"
      ]
    },
    {
      "cell_type": "code",
      "execution_count": 25,
      "metadata": {
        "id": "ITfFAIMYaRxS"
      },
      "outputs": [],
      "source": []
    }
  ],
  "metadata": {
    "kernelspec": {
      "display_name": "Python 3",
      "language": "python",
      "name": "python3"
    },
    "language_info": {
      "codemirror_mode": {
        "name": "ipython",
        "version": 3
      },
      "file_extension": ".py",
      "mimetype": "text/x-python",
      "name": "python",
      "nbconvert_exporter": "python",
      "pygments_lexer": "ipython3",
      "version": "3.7.3"
    },
    "colab": {
      "provenance": [],
      "include_colab_link": true
    }
  },
  "nbformat": 4,
  "nbformat_minor": 0
}