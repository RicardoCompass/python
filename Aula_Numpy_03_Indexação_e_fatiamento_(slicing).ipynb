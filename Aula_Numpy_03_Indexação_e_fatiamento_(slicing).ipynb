{
  "cells": [
    {
      "cell_type": "code",
      "execution_count": null,
      "metadata": {
        "collapsed": true,
        "id": "pe9DvddxKSKy"
      },
      "outputs": [],
      "source": []
    },
    {
      "cell_type": "markdown",
      "metadata": {
        "id": "0ewQA5M3KSKz"
      },
      "source": [
        "# Indexação e fatiamento (slicing)"
      ]
    },
    {
      "cell_type": "code",
      "execution_count": 1,
      "metadata": {
        "collapsed": true,
        "id": "2qseBC7mKSK2"
      },
      "outputs": [],
      "source": [
        "# Importando o NumPy\n",
        "import numpy as np"
      ]
    },
    {
      "cell_type": "code",
      "execution_count": 2,
      "metadata": {
        "colab": {
          "base_uri": "https://localhost:8080/"
        },
        "id": "cLo6Ym_dKSK3",
        "outputId": "5f823675-c06f-4038-f3d6-3ee4f63acb4c"
      },
      "outputs": [
        {
          "output_type": "execute_result",
          "data": {
            "text/plain": [
              "array([7, 4, 0, 6, 2, 8, 1, 4, 9, 1])"
            ]
          },
          "metadata": {},
          "execution_count": 2
        }
      ],
      "source": [
        "# Cria um ndarray com 10 elementos entre 0 e 9\n",
        "a1D = np.random.randint(0, 10, 10)\n",
        "a1D"
      ]
    },
    {
      "cell_type": "code",
      "execution_count": 3,
      "metadata": {
        "colab": {
          "base_uri": "https://localhost:8080/"
        },
        "id": "RGowjdDBKSK3",
        "outputId": "06f8de68-2b05-4749-c9ad-c2641294ce3d"
      },
      "outputs": [
        {
          "output_type": "execute_result",
          "data": {
            "text/plain": [
              "array([[ 9, 47, 69, 93, 43],\n",
              "       [60, 74, 87, 24, 31],\n",
              "       [86, 91, 38, 87, 58],\n",
              "       [85, 75, 66,  3, 20]])"
            ]
          },
          "metadata": {},
          "execution_count": 3
        }
      ],
      "source": [
        "a2D = np.random.randint(1, 101, (4,5)) # Cria um ndarray de 4 linhas x 5 colunas com elementos entre 1 e 100\n",
        "a2D"
      ]
    },
    {
      "cell_type": "code",
      "execution_count": 4,
      "metadata": {
        "colab": {
          "base_uri": "https://localhost:8080/"
        },
        "id": "tIpZh6kvKSK3",
        "outputId": "6cad9596-bf2b-4732-b414-2794e9aa8fbd"
      },
      "outputs": [
        {
          "output_type": "execute_result",
          "data": {
            "text/plain": [
              "array([[[0.20077689, 0.19275275, 0.98311763, 0.29831892, 0.40034752],\n",
              "        [0.81889527, 0.72714572, 0.09146693, 0.33208354, 0.89013518],\n",
              "        [0.72330325, 0.48348188, 0.9362443 , 0.24980908, 0.96200838],\n",
              "        [0.67234782, 0.65196623, 0.88683689, 0.83300326, 0.8694458 ]],\n",
              "\n",
              "       [[0.86533944, 0.47462816, 0.18817122, 0.62288818, 0.4960806 ],\n",
              "        [0.68749027, 0.13061042, 0.08830027, 0.44535229, 0.90457113],\n",
              "        [0.40194862, 0.82952579, 0.60863316, 0.89487463, 0.44735627],\n",
              "        [0.34492371, 0.99881004, 0.56974749, 0.35008089, 0.50254604]],\n",
              "\n",
              "       [[0.67101738, 0.81931999, 0.87326983, 0.81918305, 0.72081379],\n",
              "        [0.83804782, 0.4488308 , 0.29033422, 0.97400712, 0.19600404],\n",
              "        [0.14347321, 0.0434866 , 0.68498206, 0.17155262, 0.48873379],\n",
              "        [0.26324035, 0.62759357, 0.8062624 , 0.86394872, 0.39475714]]])"
            ]
          },
          "metadata": {},
          "execution_count": 4
        }
      ],
      "source": [
        "a3D = np.random.random((3,4,5)) # Cria um ndarray de 3 páginas x 4 linhas x 5 colunas com elementos entre 0 e 1\n",
        "a3D"
      ]
    },
    {
      "cell_type": "markdown",
      "metadata": {
        "id": "buCcwCR6KSK4"
      },
      "source": [
        "### Acessando elementos específicos"
      ]
    },
    {
      "cell_type": "code",
      "execution_count": 5,
      "metadata": {
        "colab": {
          "base_uri": "https://localhost:8080/"
        },
        "id": "1w0FrzzdKSK4",
        "outputId": "ba91cae7-770e-4e83-aa01-6a98370eeffc"
      },
      "outputs": [
        {
          "output_type": "execute_result",
          "data": {
            "text/plain": [
              "array([7, 4, 0, 6, 2, 8, 1, 4, 9, 1])"
            ]
          },
          "metadata": {},
          "execution_count": 5
        }
      ],
      "source": [
        "# Acessando elementos de um ndarray de 1 dimensão\n",
        "a1D"
      ]
    },
    {
      "cell_type": "code",
      "execution_count": 6,
      "metadata": {
        "colab": {
          "base_uri": "https://localhost:8080/"
        },
        "id": "UUFQYcdCKSK4",
        "outputId": "32d68c03-681c-4be0-8e55-9f3c5f46b92d"
      },
      "outputs": [
        {
          "output_type": "execute_result",
          "data": {
            "text/plain": [
              "7"
            ]
          },
          "metadata": {},
          "execution_count": 6
        }
      ],
      "source": [
        "# nome_do_array[índice]\n",
        "a1D[0]"
      ]
    },
    {
      "cell_type": "code",
      "execution_count": 7,
      "metadata": {
        "colab": {
          "base_uri": "https://localhost:8080/"
        },
        "id": "Ow0zZnJnKSK5",
        "outputId": "01c92e75-eafc-4e89-ea28-0c3e5d33a454"
      },
      "outputs": [
        {
          "output_type": "execute_result",
          "data": {
            "text/plain": [
              "0"
            ]
          },
          "metadata": {},
          "execution_count": 7
        }
      ],
      "source": [
        "a1D[2]"
      ]
    },
    {
      "cell_type": "code",
      "execution_count": 8,
      "metadata": {
        "colab": {
          "base_uri": "https://localhost:8080/"
        },
        "id": "6IdAG46nKSK5",
        "outputId": "fa3d60ca-abc9-4789-8470-b0338d5f9a48"
      },
      "outputs": [
        {
          "output_type": "execute_result",
          "data": {
            "text/plain": [
              "1"
            ]
          },
          "metadata": {},
          "execution_count": 8
        }
      ],
      "source": [
        "a1D[-1]"
      ]
    },
    {
      "cell_type": "code",
      "execution_count": 9,
      "metadata": {
        "colab": {
          "base_uri": "https://localhost:8080/"
        },
        "id": "dXhu8uHBKSK5",
        "outputId": "90fb93bd-ab65-4412-bfb2-c3262f6a9881"
      },
      "outputs": [
        {
          "output_type": "execute_result",
          "data": {
            "text/plain": [
              "array([6, 7, 1])"
            ]
          },
          "metadata": {},
          "execution_count": 9
        }
      ],
      "source": [
        "indices = [3, 0, -1] # Definindo uma lista com os índices que se deseja acessar\n",
        "a1D[indices]"
      ]
    },
    {
      "cell_type": "code",
      "execution_count": 10,
      "metadata": {
        "colab": {
          "base_uri": "https://localhost:8080/"
        },
        "id": "Io8PUO2iKSK5",
        "outputId": "e7129f42-9ad0-4f4e-c150-d4b7bc1c5bee"
      },
      "outputs": [
        {
          "output_type": "execute_result",
          "data": {
            "text/plain": [
              "array([[ 9, 47, 69, 93, 43],\n",
              "       [60, 74, 87, 24, 31],\n",
              "       [86, 91, 38, 87, 58],\n",
              "       [85, 75, 66,  3, 20]])"
            ]
          },
          "metadata": {},
          "execution_count": 10
        }
      ],
      "source": [
        "# Acessando elementos de um ndarray de 2 dimensões\n",
        "a2D"
      ]
    },
    {
      "cell_type": "code",
      "execution_count": 11,
      "metadata": {
        "colab": {
          "base_uri": "https://localhost:8080/"
        },
        "id": "xtZhrvJeKSK6",
        "outputId": "4ce814b7-cc88-464c-b64d-9c17d39233e4"
      },
      "outputs": [
        {
          "output_type": "execute_result",
          "data": {
            "text/plain": [
              "87"
            ]
          },
          "metadata": {},
          "execution_count": 11
        }
      ],
      "source": [
        "# nome_da_matriz[linha][coluna]\n",
        "a2D[1][2]"
      ]
    },
    {
      "cell_type": "code",
      "execution_count": 12,
      "metadata": {
        "colab": {
          "base_uri": "https://localhost:8080/"
        },
        "id": "VWnhT0ofKSK6",
        "outputId": "87f971cb-75fe-45b1-910f-0295c957dabf"
      },
      "outputs": [
        {
          "output_type": "execute_result",
          "data": {
            "text/plain": [
              "20"
            ]
          },
          "metadata": {},
          "execution_count": 12
        }
      ],
      "source": [
        "a2D[3][4]"
      ]
    },
    {
      "cell_type": "code",
      "execution_count": 13,
      "metadata": {
        "colab": {
          "base_uri": "https://localhost:8080/"
        },
        "id": "RXJW0ZjKKSK6",
        "outputId": "1eb8c0f2-8457-4bc6-a1d9-e75a6517aa76"
      },
      "outputs": [
        {
          "output_type": "execute_result",
          "data": {
            "text/plain": [
              "array([ 9, 74, 38,  3])"
            ]
          },
          "metadata": {},
          "execution_count": 13
        }
      ],
      "source": [
        "indice_lin = [0, 1, 2, 3]\n",
        "indice_col = [0, 1, 2, 3]\n",
        "\n",
        "a2D[indice_lin, indice_col]"
      ]
    },
    {
      "cell_type": "code",
      "execution_count": 14,
      "metadata": {
        "colab": {
          "base_uri": "https://localhost:8080/"
        },
        "id": "SAihTsGgKSK6",
        "outputId": "570a4f40-af77-4e4e-ada8-cf7086c9112c"
      },
      "outputs": [
        {
          "output_type": "execute_result",
          "data": {
            "text/plain": [
              "array([93, 87, 91, 85])"
            ]
          },
          "metadata": {},
          "execution_count": 14
        }
      ],
      "source": [
        "indice_lin = [0, 1, 2, 3]\n",
        "indice_col = [3, 2, 1, 0]\n",
        "\n",
        "a2D[indice_lin, indice_col]"
      ]
    },
    {
      "cell_type": "code",
      "execution_count": 15,
      "metadata": {
        "colab": {
          "base_uri": "https://localhost:8080/"
        },
        "id": "UkQnDWiiKSK6",
        "outputId": "8b3dc470-40c9-4ec5-9acc-c8641cde1f27"
      },
      "outputs": [
        {
          "output_type": "execute_result",
          "data": {
            "text/plain": [
              "array([ 3, 38, 74,  9])"
            ]
          },
          "metadata": {},
          "execution_count": 15
        }
      ],
      "source": [
        "indice_lin = [3, 2, 1, 0]\n",
        "indice_col = [3, 2, 1, 0]\n",
        "\n",
        "a2D[indice_lin, indice_col]"
      ]
    },
    {
      "cell_type": "code",
      "execution_count": 16,
      "metadata": {
        "colab": {
          "base_uri": "https://localhost:8080/"
        },
        "id": "I9_1XYoDKSK6",
        "outputId": "83995534-075e-41c0-ef80-dfe30edb680e"
      },
      "outputs": [
        {
          "output_type": "execute_result",
          "data": {
            "text/plain": [
              "array([[ 9, 47, 69,  9],\n",
              "       [60, 74, 87, 60],\n",
              "       [86, 91, 38, 86],\n",
              "       [85, 75, 66, 85]])"
            ]
          },
          "metadata": {},
          "execution_count": 16
        }
      ],
      "source": [
        "a2D[:,[0,1,2,0]]"
      ]
    },
    {
      "cell_type": "code",
      "execution_count": 17,
      "metadata": {
        "colab": {
          "base_uri": "https://localhost:8080/"
        },
        "id": "66DSuJJAKSK6",
        "outputId": "4161c3c2-ba9f-4edc-ccbe-d02cdab0ae2a"
      },
      "outputs": [
        {
          "output_type": "execute_result",
          "data": {
            "text/plain": [
              "array([[60, 74, 87, 60],\n",
              "       [ 9, 47, 69,  9],\n",
              "       [60, 74, 87, 60],\n",
              "       [ 9, 47, 69,  9]])"
            ]
          },
          "metadata": {},
          "execution_count": 17
        }
      ],
      "source": [
        "a2D[:,[0,1,2,0]][[1, 0, 1, 0]] #todas as linhas / colunas 0,1,2,0 / retorna linha 1,0,1,0"
      ]
    },
    {
      "cell_type": "code",
      "execution_count": 18,
      "metadata": {
        "colab": {
          "base_uri": "https://localhost:8080/"
        },
        "id": "XWNIeyvjKSK6",
        "outputId": "8974ed82-4a83-40e0-d655-dcc44cdf6596"
      },
      "outputs": [
        {
          "output_type": "execute_result",
          "data": {
            "text/plain": [
              "array([[ 9, 47, 69, 93, 43],\n",
              "       [60, 74, 87, 24, 31],\n",
              "       [86, 91, 38, 87, 58],\n",
              "       [85, 75, 66,  3, 20]])"
            ]
          },
          "metadata": {},
          "execution_count": 18
        }
      ],
      "source": [
        "a2D"
      ]
    },
    {
      "cell_type": "code",
      "execution_count": 19,
      "metadata": {
        "colab": {
          "base_uri": "https://localhost:8080/"
        },
        "id": "kEp524bcKSK7",
        "outputId": "41f72457-210b-4956-ba41-1506be7790e9"
      },
      "outputs": [
        {
          "output_type": "execute_result",
          "data": {
            "text/plain": [
              "array([[60, 74, 87, 60],\n",
              "       [ 9, 47, 69,  9],\n",
              "       [60, 74, 87, 60],\n",
              "       [ 9, 47, 69,  9]])"
            ]
          },
          "metadata": {},
          "execution_count": 19
        }
      ],
      "source": [
        "a2D[[1, 0, 1, 0]][:,[0,1,2,0]] #linha 1,0,1,0 / de todas essas linhas retorna 0,1,2,0 colunas"
      ]
    },
    {
      "cell_type": "code",
      "execution_count": 20,
      "metadata": {
        "colab": {
          "base_uri": "https://localhost:8080/"
        },
        "id": "AADgHqe9KSK7",
        "outputId": "d973b41b-3286-44be-ba3b-1dc374282095"
      },
      "outputs": [
        {
          "output_type": "execute_result",
          "data": {
            "text/plain": [
              "array([[[0.20077689, 0.19275275, 0.98311763, 0.29831892, 0.40034752],\n",
              "        [0.81889527, 0.72714572, 0.09146693, 0.33208354, 0.89013518],\n",
              "        [0.72330325, 0.48348188, 0.9362443 , 0.24980908, 0.96200838],\n",
              "        [0.67234782, 0.65196623, 0.88683689, 0.83300326, 0.8694458 ]],\n",
              "\n",
              "       [[0.86533944, 0.47462816, 0.18817122, 0.62288818, 0.4960806 ],\n",
              "        [0.68749027, 0.13061042, 0.08830027, 0.44535229, 0.90457113],\n",
              "        [0.40194862, 0.82952579, 0.60863316, 0.89487463, 0.44735627],\n",
              "        [0.34492371, 0.99881004, 0.56974749, 0.35008089, 0.50254604]],\n",
              "\n",
              "       [[0.67101738, 0.81931999, 0.87326983, 0.81918305, 0.72081379],\n",
              "        [0.83804782, 0.4488308 , 0.29033422, 0.97400712, 0.19600404],\n",
              "        [0.14347321, 0.0434866 , 0.68498206, 0.17155262, 0.48873379],\n",
              "        [0.26324035, 0.62759357, 0.8062624 , 0.86394872, 0.39475714]]])"
            ]
          },
          "metadata": {},
          "execution_count": 20
        }
      ],
      "source": [
        "# Acessando elementos de um ndarray de 3 dimensões\n",
        "a3D"
      ]
    },
    {
      "cell_type": "code",
      "execution_count": 21,
      "metadata": {
        "colab": {
          "base_uri": "https://localhost:8080/"
        },
        "id": "t7-RQDbaKSK7",
        "outputId": "c1c2992e-70ba-4849-8281-10466ee90509"
      },
      "outputs": [
        {
          "output_type": "execute_result",
          "data": {
            "text/plain": [
              "0.8191830517577602"
            ]
          },
          "metadata": {},
          "execution_count": 21
        }
      ],
      "source": [
        "# nome_do_cubo[página][linha][coluna]\n",
        "a3D[2][0][3]"
      ]
    },
    {
      "cell_type": "code",
      "execution_count": 22,
      "metadata": {
        "colab": {
          "base_uri": "https://localhost:8080/"
        },
        "id": "xdZ_8SIUKSK7",
        "outputId": "b340be28-fa2f-4155-b62d-4efdd9f87899"
      },
      "outputs": [
        {
          "output_type": "execute_result",
          "data": {
            "text/plain": [
              "0.6519662280288058"
            ]
          },
          "metadata": {},
          "execution_count": 22
        }
      ],
      "source": [
        "a3D[0][3][1]"
      ]
    },
    {
      "cell_type": "markdown",
      "metadata": {
        "id": "80RRjTFSKSK7"
      },
      "source": [
        "### Fatiamento (slicing)"
      ]
    },
    {
      "cell_type": "code",
      "execution_count": 23,
      "metadata": {
        "colab": {
          "base_uri": "https://localhost:8080/"
        },
        "id": "MDvKpM4XKSK7",
        "outputId": "75a356e3-89d9-4a71-c9ac-bdc02003e2d3"
      },
      "outputs": [
        {
          "output_type": "execute_result",
          "data": {
            "text/plain": [
              "array([7, 4, 0, 6, 2, 8, 1, 4, 9, 1])"
            ]
          },
          "metadata": {},
          "execution_count": 23
        }
      ],
      "source": [
        "# Array de 1 dimensão\n",
        "a1D"
      ]
    },
    {
      "cell_type": "code",
      "execution_count": 24,
      "metadata": {
        "colab": {
          "base_uri": "https://localhost:8080/"
        },
        "id": "9cXdDDgLKSK7",
        "outputId": "f5637ecd-56a9-4454-fbc9-dfa09415d94c"
      },
      "outputs": [
        {
          "output_type": "execute_result",
          "data": {
            "text/plain": [
              "array([4, 0, 6, 2])"
            ]
          },
          "metadata": {},
          "execution_count": 24
        }
      ],
      "source": [
        "a = a1D[1:5] # Índice 1 ao 4\n",
        "a"
      ]
    },
    {
      "cell_type": "code",
      "execution_count": 25,
      "metadata": {
        "colab": {
          "base_uri": "https://localhost:8080/"
        },
        "id": "yRpawQhuKSK7",
        "outputId": "f03188c0-db24-4809-8c78-8fa2100bbee3"
      },
      "outputs": [
        {
          "output_type": "execute_result",
          "data": {
            "text/plain": [
              "array([7, 4, 0, 6, 2, 8])"
            ]
          },
          "metadata": {},
          "execution_count": 25
        }
      ],
      "source": [
        "b = a1D[0:6] # Índice 0 ao 5\n",
        "b"
      ]
    },
    {
      "cell_type": "code",
      "execution_count": 26,
      "metadata": {
        "colab": {
          "base_uri": "https://localhost:8080/"
        },
        "id": "3_ono4-OKSK7",
        "outputId": "6496c863-dbf6-4cd0-fe53-7f51e0361c4f"
      },
      "outputs": [
        {
          "output_type": "execute_result",
          "data": {
            "text/plain": [
              "array([7, 4, 0, 6, 2, 8])"
            ]
          },
          "metadata": {},
          "execution_count": 26
        }
      ],
      "source": [
        "c = a1D[:6] # Do início ao 5\n",
        "c"
      ]
    },
    {
      "cell_type": "code",
      "execution_count": 27,
      "metadata": {
        "colab": {
          "base_uri": "https://localhost:8080/"
        },
        "id": "yksMFpTvKSK8",
        "outputId": "833f4ee6-1382-4ff3-9816-c0fd973444af"
      },
      "outputs": [
        {
          "output_type": "execute_result",
          "data": {
            "text/plain": [
              "array([7, 0, 2, 1, 9])"
            ]
          },
          "metadata": {},
          "execution_count": 27
        }
      ],
      "source": [
        "d = a1D[::2] # Do início ao fim, com passo 2\n",
        "d"
      ]
    },
    {
      "cell_type": "code",
      "execution_count": 28,
      "metadata": {
        "colab": {
          "base_uri": "https://localhost:8080/"
        },
        "id": "mCay-oWWKSK8",
        "outputId": "fb492c06-870e-4dbe-c34c-168301450da3"
      },
      "outputs": [
        {
          "output_type": "execute_result",
          "data": {
            "text/plain": [
              "array([1, 9, 4, 1, 8, 2, 6, 0, 4, 7])"
            ]
          },
          "metadata": {},
          "execution_count": 28
        }
      ],
      "source": [
        "e = a1D[-1::-1] # Do final até o início\n",
        "e"
      ]
    },
    {
      "cell_type": "code",
      "execution_count": 29,
      "metadata": {
        "colab": {
          "base_uri": "https://localhost:8080/"
        },
        "id": "Ywbtg7joKSK8",
        "outputId": "2964db7e-dbdc-466e-e69b-e50a6fa285bc"
      },
      "outputs": [
        {
          "output_type": "execute_result",
          "data": {
            "text/plain": [
              "array([[ 9, 47, 69, 93, 43],\n",
              "       [60, 74, 87, 24, 31],\n",
              "       [86, 91, 38, 87, 58],\n",
              "       [85, 75, 66,  3, 20]])"
            ]
          },
          "metadata": {},
          "execution_count": 29
        }
      ],
      "source": [
        "# Array de 2 dimensões\n",
        "a2D"
      ]
    },
    {
      "cell_type": "code",
      "execution_count": 30,
      "metadata": {
        "colab": {
          "base_uri": "https://localhost:8080/"
        },
        "id": "ilL91vYMKSK8",
        "outputId": "98144a81-fa9d-49f6-f321-09964ebc172e"
      },
      "outputs": [
        {
          "output_type": "execute_result",
          "data": {
            "text/plain": [
              "array([ 9, 47, 69, 93, 43])"
            ]
          },
          "metadata": {},
          "execution_count": 30
        }
      ],
      "source": [
        "linha0 = a2D[0] # Todos os elementos da linha 0 - outra forma seria: linha0 = a2D[0,:]\n",
        "linha0"
      ]
    },
    {
      "cell_type": "code",
      "execution_count": 31,
      "metadata": {
        "colab": {
          "base_uri": "https://localhost:8080/"
        },
        "id": "4s2fjqr1KSK8",
        "outputId": "72db4fd3-b8fe-4d7f-f9a0-32515211f150"
      },
      "outputs": [
        {
          "output_type": "execute_result",
          "data": {
            "text/plain": [
              "array([60, 74, 87, 24, 31])"
            ]
          },
          "metadata": {},
          "execution_count": 31
        }
      ],
      "source": [
        "linha1 = a2D[1,:] # Todos os elementos da linha 1\n",
        "linha1"
      ]
    },
    {
      "cell_type": "code",
      "execution_count": 32,
      "metadata": {
        "colab": {
          "base_uri": "https://localhost:8080/"
        },
        "id": "DzZ7ahYKKSK8",
        "outputId": "99b81e12-d6c3-4ae6-8f7b-599d2137bb56"
      },
      "outputs": [
        {
          "output_type": "execute_result",
          "data": {
            "text/plain": [
              "array([91, 38, 87])"
            ]
          },
          "metadata": {},
          "execution_count": 32
        }
      ],
      "source": [
        "linha2 = a2D[2,1:4] # Linha 2, colunas 1, 2 e 3\n",
        "linha2"
      ]
    },
    {
      "cell_type": "code",
      "execution_count": 33,
      "metadata": {
        "colab": {
          "base_uri": "https://localhost:8080/"
        },
        "id": "Wt7G0k9BKSK8",
        "outputId": "9161e11a-2a88-4871-fa47-0b04b0667b1c"
      },
      "outputs": [
        {
          "output_type": "execute_result",
          "data": {
            "text/plain": [
              "array([85, 75, 66,  3, 20])"
            ]
          },
          "metadata": {},
          "execution_count": 33
        }
      ],
      "source": [
        "linha3 = a2D[:][3] # a2D[:] retorna toda a matriz, então de toda a matriz queremos a linha 3 a2D[:][3]\n",
        "linha3"
      ]
    },
    {
      "cell_type": "code",
      "execution_count": 34,
      "metadata": {
        "colab": {
          "base_uri": "https://localhost:8080/"
        },
        "id": "kzuEa30mKSK8",
        "outputId": "fccddd34-ce57-4d3c-8849-9a726f21b0f6"
      },
      "outputs": [
        {
          "output_type": "execute_result",
          "data": {
            "text/plain": [
              "array([69, 87, 38, 66])"
            ]
          },
          "metadata": {},
          "execution_count": 34
        }
      ],
      "source": [
        "coluna2 = a2D[:,2] # De todas as linhas, selecionar a coluna 2\n",
        "coluna2"
      ]
    },
    {
      "cell_type": "code",
      "execution_count": 35,
      "metadata": {
        "colab": {
          "base_uri": "https://localhost:8080/"
        },
        "id": "KOoa6L9BKSK8",
        "outputId": "556465ba-33f7-4bcd-b63d-c322b7e4b49b"
      },
      "outputs": [
        {
          "output_type": "execute_result",
          "data": {
            "text/plain": [
              "array([24, 87,  3])"
            ]
          },
          "metadata": {},
          "execution_count": 35
        }
      ],
      "source": [
        "coluna3 = a2D[1:,3] # Da linha um até a última, selecionar a coluna 3\n",
        "coluna3"
      ]
    },
    {
      "cell_type": "code",
      "execution_count": 36,
      "metadata": {
        "colab": {
          "base_uri": "https://localhost:8080/"
        },
        "id": "JvB1zQuTKSLL",
        "outputId": "34f21ec4-21f3-40af-efda-6c8c2e193cfe"
      },
      "outputs": [
        {
          "output_type": "execute_result",
          "data": {
            "text/plain": [
              "array([[[0.20077689, 0.19275275, 0.98311763, 0.29831892, 0.40034752],\n",
              "        [0.81889527, 0.72714572, 0.09146693, 0.33208354, 0.89013518],\n",
              "        [0.72330325, 0.48348188, 0.9362443 , 0.24980908, 0.96200838],\n",
              "        [0.67234782, 0.65196623, 0.88683689, 0.83300326, 0.8694458 ]],\n",
              "\n",
              "       [[0.86533944, 0.47462816, 0.18817122, 0.62288818, 0.4960806 ],\n",
              "        [0.68749027, 0.13061042, 0.08830027, 0.44535229, 0.90457113],\n",
              "        [0.40194862, 0.82952579, 0.60863316, 0.89487463, 0.44735627],\n",
              "        [0.34492371, 0.99881004, 0.56974749, 0.35008089, 0.50254604]],\n",
              "\n",
              "       [[0.67101738, 0.81931999, 0.87326983, 0.81918305, 0.72081379],\n",
              "        [0.83804782, 0.4488308 , 0.29033422, 0.97400712, 0.19600404],\n",
              "        [0.14347321, 0.0434866 , 0.68498206, 0.17155262, 0.48873379],\n",
              "        [0.26324035, 0.62759357, 0.8062624 , 0.86394872, 0.39475714]]])"
            ]
          },
          "metadata": {},
          "execution_count": 36
        }
      ],
      "source": [
        "# Array de 3 dimensões\n",
        "a3D"
      ]
    },
    {
      "cell_type": "markdown",
      "source": [
        "1D - primeira dimensão -> coluna\n",
        "2D - primeira dimensão -> linhas\n",
        "3D - primeira dimensão -> página"
      ],
      "metadata": {
        "id": "N4DGX9cOPwt2"
      }
    },
    {
      "cell_type": "code",
      "execution_count": 37,
      "metadata": {
        "colab": {
          "base_uri": "https://localhost:8080/"
        },
        "id": "17oy1o5pKSLL",
        "outputId": "3be97b78-b934-4d8f-a48b-ab73aa9b5e16"
      },
      "outputs": [
        {
          "output_type": "execute_result",
          "data": {
            "text/plain": [
              "array([[0.86533944, 0.47462816, 0.18817122, 0.62288818, 0.4960806 ],\n",
              "       [0.68749027, 0.13061042, 0.08830027, 0.44535229, 0.90457113],\n",
              "       [0.40194862, 0.82952579, 0.60863316, 0.89487463, 0.44735627],\n",
              "       [0.34492371, 0.99881004, 0.56974749, 0.35008089, 0.50254604]])"
            ]
          },
          "metadata": {},
          "execution_count": 37
        }
      ],
      "source": [
        "# Acessando a página/face 1\n",
        "face1 = a3D[1]\n",
        "face1"
      ]
    },
    {
      "cell_type": "code",
      "execution_count": 38,
      "metadata": {
        "colab": {
          "base_uri": "https://localhost:8080/"
        },
        "id": "ZhEPcZ_BKSLL",
        "outputId": "34bb0456-cf17-4a8a-9094-6149b80e555e"
      },
      "outputs": [
        {
          "output_type": "execute_result",
          "data": {
            "text/plain": [
              "array([[0.47462816, 0.18817122, 0.62288818],\n",
              "       [0.13061042, 0.08830027, 0.44535229],\n",
              "       [0.82952579, 0.60863316, 0.89487463]])"
            ]
          },
          "metadata": {},
          "execution_count": 38
        }
      ],
      "source": [
        "# Acessando uma parte da face1 / página, linhas de 0 a 2 e colunas de 1 a 3\n",
        "subface1 = a3D[1,0:3, 1:4]\n",
        "subface1"
      ]
    },
    {
      "cell_type": "code",
      "execution_count": 39,
      "metadata": {
        "colab": {
          "base_uri": "https://localhost:8080/"
        },
        "id": "wQfRmsWFKSLL",
        "outputId": "92082a6d-4282-4c3f-dab6-863214edf05b"
      },
      "outputs": [
        {
          "output_type": "execute_result",
          "data": {
            "text/plain": [
              "array([0.72330325, 0.48348188, 0.9362443 , 0.24980908, 0.96200838])"
            ]
          },
          "metadata": {},
          "execution_count": 39
        }
      ],
      "source": [
        "linha2face0 = a3D[0,2] # outra forma: linha2face0 = a3D[0,2,:]\n",
        "linha2face0"
      ]
    },
    {
      "cell_type": "code",
      "execution_count": 40,
      "metadata": {
        "colab": {
          "base_uri": "https://localhost:8080/"
        },
        "id": "JyH_Vet9KSLL",
        "outputId": "832e313b-520b-4df1-f282-a5c2bb981db7"
      },
      "outputs": [
        {
          "output_type": "execute_result",
          "data": {
            "text/plain": [
              "array([[[0.20077689, 0.19275275, 0.98311763, 0.29831892, 0.40034752],\n",
              "        [0.81889527, 0.72714572, 0.09146693, 0.33208354, 0.89013518],\n",
              "        [0.72330325, 0.48348188, 0.9362443 , 0.24980908, 0.96200838],\n",
              "        [0.67234782, 0.65196623, 0.88683689, 0.83300326, 0.8694458 ]],\n",
              "\n",
              "       [[0.86533944, 0.47462816, 0.18817122, 0.62288818, 0.4960806 ],\n",
              "        [0.68749027, 0.13061042, 0.08830027, 0.44535229, 0.90457113],\n",
              "        [0.40194862, 0.82952579, 0.60863316, 0.89487463, 0.44735627],\n",
              "        [0.34492371, 0.99881004, 0.56974749, 0.35008089, 0.50254604]],\n",
              "\n",
              "       [[0.67101738, 0.81931999, 0.87326983, 0.81918305, 0.72081379],\n",
              "        [0.83804782, 0.4488308 , 0.29033422, 0.97400712, 0.19600404],\n",
              "        [0.14347321, 0.0434866 , 0.68498206, 0.17155262, 0.48873379],\n",
              "        [0.26324035, 0.62759357, 0.8062624 , 0.86394872, 0.39475714]]])"
            ]
          },
          "metadata": {},
          "execution_count": 40
        }
      ],
      "source": [
        "a3D"
      ]
    },
    {
      "cell_type": "code",
      "execution_count": 41,
      "metadata": {
        "colab": {
          "base_uri": "https://localhost:8080/"
        },
        "id": "nzVvvUqzKSLL",
        "outputId": "768c9740-b05c-4655-f843-5cb3e77f6b26"
      },
      "outputs": [
        {
          "output_type": "execute_result",
          "data": {
            "text/plain": [
              "array([[0.81889527, 0.72714572, 0.09146693, 0.33208354, 0.89013518],\n",
              "       [0.68749027, 0.13061042, 0.08830027, 0.44535229, 0.90457113],\n",
              "       [0.83804782, 0.4488308 , 0.29033422, 0.97400712, 0.19600404]])"
            ]
          },
          "metadata": {},
          "execution_count": 41
        }
      ],
      "source": [
        "linha1todasfaces = a3D[:,1] # outra forma: linha1todasfaces = a3D[:,1,:]\n",
        "linha1todasfaces"
      ]
    },
    {
      "cell_type": "code",
      "execution_count": 42,
      "metadata": {
        "colab": {
          "base_uri": "https://localhost:8080/"
        },
        "id": "wcr1acJSKSLL",
        "outputId": "f0c98a00-8ed5-42cb-eabb-fdabbca181cf"
      },
      "outputs": [
        {
          "output_type": "execute_result",
          "data": {
            "text/plain": [
              "array([[0.29831892, 0.33208354, 0.24980908, 0.83300326],\n",
              "       [0.62288818, 0.44535229, 0.89487463, 0.35008089],\n",
              "       [0.81918305, 0.97400712, 0.17155262, 0.86394872]])"
            ]
          },
          "metadata": {},
          "execution_count": 42
        }
      ],
      "source": [
        "coluna3todasfaces = a3D[:,:,3]\n",
        "coluna3todasfaces"
      ]
    },
    {
      "cell_type": "markdown",
      "metadata": {
        "id": "KUXGLIQHKSLL"
      },
      "source": [
        "### Indexação com booleanos"
      ]
    },
    {
      "cell_type": "code",
      "execution_count": 44,
      "metadata": {
        "colab": {
          "base_uri": "https://localhost:8080/"
        },
        "id": "hSykUKevKSLL",
        "outputId": "e4a17759-98f4-4dcf-c9e2-299b9e093036"
      },
      "outputs": [
        {
          "output_type": "execute_result",
          "data": {
            "text/plain": [
              "array([[ 92, 258,  69, 237, 465,  92, 381,  30],\n",
              "       [ 93, 326, 425, 198, 272, 443, 431, 486],\n",
              "       [488, 132, 110, 134, 157, 256, 241, 409],\n",
              "       [215, 399, 283, 484, 447, 347, 464, 464],\n",
              "       [ 86, 290, 227, 481, 304, 424, 250, 122],\n",
              "       [392,  75, 135, 341,  49, 393, 493,  47],\n",
              "       [ 46, 467, 319, 166, 453, 285, 368, 400],\n",
              "       [353, 466, 173,  63, 110, 411, 267, 461],\n",
              "       [270, 337,  62,  36, 147, 265, 241,  85],\n",
              "       [ 22, 280, 238, 308,  57, 365, 407, 280]])"
            ]
          },
          "metadata": {},
          "execution_count": 44
        }
      ],
      "source": [
        "a2D = np.random.randint(1, 501, (10, 8)) # Cria um ndarray de 4 linhas x 5 colunas com elementos entre 1 e 100\n",
        "a2D"
      ]
    },
    {
      "cell_type": "code",
      "execution_count": 45,
      "metadata": {
        "colab": {
          "base_uri": "https://localhost:8080/"
        },
        "id": "8IDNBSaSKSLL",
        "outputId": "607118b1-77ff-4010-fe22-c8cf00d58e15"
      },
      "outputs": [
        {
          "output_type": "execute_result",
          "data": {
            "text/plain": [
              "array([[False,  True, False, False,  True, False,  True, False],\n",
              "       [False,  True,  True, False,  True,  True,  True,  True],\n",
              "       [ True, False, False, False, False,  True, False,  True],\n",
              "       [False,  True,  True,  True,  True,  True,  True,  True],\n",
              "       [False,  True, False,  True,  True,  True,  True, False],\n",
              "       [ True, False, False,  True, False,  True,  True, False],\n",
              "       [False,  True,  True, False,  True,  True,  True,  True],\n",
              "       [ True,  True, False, False, False,  True,  True,  True],\n",
              "       [ True,  True, False, False, False,  True, False, False],\n",
              "       [False,  True, False,  True, False,  True,  True,  True]])"
            ]
          },
          "metadata": {},
          "execution_count": 45
        }
      ],
      "source": [
        "a2D >= 250"
      ]
    },
    {
      "cell_type": "code",
      "execution_count": 46,
      "metadata": {
        "colab": {
          "base_uri": "https://localhost:8080/"
        },
        "id": "4Q2XQlgRKSLM",
        "outputId": "7fcbe618-6afb-462f-dbb0-6b210eb7b0b2"
      },
      "outputs": [
        {
          "output_type": "execute_result",
          "data": {
            "text/plain": [
              "array([258, 465, 381, 326, 425, 272, 443, 431, 486, 488, 256, 409, 399,\n",
              "       283, 484, 447, 347, 464, 464, 290, 481, 304, 424, 250, 392, 341,\n",
              "       393, 493, 467, 319, 453, 285, 368, 400, 353, 466, 411, 267, 461,\n",
              "       270, 337, 265, 280, 308, 365, 407, 280])"
            ]
          },
          "metadata": {},
          "execution_count": 46
        }
      ],
      "source": [
        "a2D[a2D >= 250]"
      ]
    },
    {
      "cell_type": "code",
      "execution_count": 47,
      "metadata": {
        "colab": {
          "base_uri": "https://localhost:8080/"
        },
        "id": "fDNpdT8XKSLM",
        "outputId": "ae695a28-086c-4a36-eb83-5333f8411cfa"
      },
      "outputs": [
        {
          "output_type": "execute_result",
          "data": {
            "text/plain": [
              "270.5625"
            ]
          },
          "metadata": {},
          "execution_count": 47
        }
      ],
      "source": [
        "a2D.mean()"
      ]
    },
    {
      "cell_type": "code",
      "execution_count": 48,
      "metadata": {
        "colab": {
          "base_uri": "https://localhost:8080/"
        },
        "id": "qT1lBczSKSLM",
        "outputId": "16978c95-4281-453b-9ef8-1207baaed03c"
      },
      "outputs": [
        {
          "output_type": "execute_result",
          "data": {
            "text/plain": [
              "array([ 92, 258,  69, 237,  92,  30,  93, 198, 132, 110, 134, 157, 256,\n",
              "       241, 215,  86, 227, 250, 122,  75, 135,  49,  47,  46, 166, 173,\n",
              "        63, 110, 267, 270,  62,  36, 147, 265, 241,  85,  22, 238,  57])"
            ]
          },
          "metadata": {},
          "execution_count": 48
        }
      ],
      "source": [
        "a2D[a2D <= a2D.mean()]"
      ]
    },
    {
      "cell_type": "code",
      "execution_count": null,
      "metadata": {
        "collapsed": true,
        "id": "JIUScXaZKSLM"
      },
      "outputs": [],
      "source": []
    }
  ],
  "metadata": {
    "kernelspec": {
      "display_name": "Python 3",
      "language": "python",
      "name": "python3"
    },
    "language_info": {
      "codemirror_mode": {
        "name": "ipython",
        "version": 3
      },
      "file_extension": ".py",
      "mimetype": "text/x-python",
      "name": "python",
      "nbconvert_exporter": "python",
      "pygments_lexer": "ipython3",
      "version": "3.6.3"
    },
    "colab": {
      "provenance": []
    }
  },
  "nbformat": 4,
  "nbformat_minor": 0
}