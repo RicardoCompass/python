{
  "cells": [
    {
      "cell_type": "markdown",
      "metadata": {
        "id": "view-in-github",
        "colab_type": "text"
      },
      "source": [
        "<a href=\"https://colab.research.google.com/github/aliceylu/python/blob/main/Aula_Numpy_04_Manipulac%CC%A7a%CC%83o_de_Arrays_NumPy.ipynb\" target=\"_parent\"><img src=\"https://colab.research.google.com/assets/colab-badge.svg\" alt=\"Open In Colab\"/></a>"
      ]
    },
    {
      "cell_type": "markdown",
      "metadata": {
        "id": "tE7yj5-K6-fX"
      },
      "source": [
        "# Manipulação de arrays Numpy"
      ]
    },
    {
      "cell_type": "markdown",
      "metadata": {
        "id": "KlVF8gZ16-fZ"
      },
      "source": [
        "### Importando o NumPy"
      ]
    },
    {
      "cell_type": "code",
      "execution_count": 1,
      "metadata": {
        "collapsed": true,
        "id": "TGNPBskD6-fa"
      },
      "outputs": [],
      "source": [
        "# Importando o NumPy\n",
        "import numpy as np"
      ]
    },
    {
      "cell_type": "markdown",
      "metadata": {
        "id": "nKef79BL6-fa"
      },
      "source": [
        "### Alterando, adicionando e removendo elementos"
      ]
    },
    {
      "cell_type": "code",
      "execution_count": 2,
      "metadata": {
        "collapsed": true,
        "colab": {
          "base_uri": "https://localhost:8080/"
        },
        "id": "puMGDgck6-fb",
        "outputId": "d094e270-35c8-4220-9d43-c39d26ba6b2d"
      },
      "outputs": [
        {
          "output_type": "execute_result",
          "data": {
            "text/plain": [
              "array([135, 127, 173, 183, 185, 190,  56,  21,  10,  31,  69,  22])"
            ]
          },
          "metadata": {},
          "execution_count": 2
        }
      ],
      "source": [
        "# Criando um array de 1 dimensão\n",
        "a1D = np.random.randint(1,200, 12)\n",
        "a1D"
      ]
    },
    {
      "cell_type": "code",
      "execution_count": 3,
      "metadata": {
        "collapsed": true,
        "colab": {
          "base_uri": "https://localhost:8080/"
        },
        "id": "oxp9RGMr6-fb",
        "outputId": "39520ac1-e5f5-43b7-8a5a-a8ffc07bf9c8"
      },
      "outputs": [
        {
          "output_type": "execute_result",
          "data": {
            "text/plain": [
              "array([[ 37, 136,  37,  56],\n",
              "       [119,  73,  24, 167],\n",
              "       [190,  63,  27,  42]])"
            ]
          },
          "metadata": {},
          "execution_count": 3
        }
      ],
      "source": [
        "# Criando um array de 2 dimensões\n",
        "a2D = np.random.randint(1,200, (3,4))\n",
        "a2D"
      ]
    },
    {
      "cell_type": "code",
      "execution_count": 4,
      "metadata": {
        "collapsed": true,
        "colab": {
          "base_uri": "https://localhost:8080/"
        },
        "id": "ay31F5vh6-fb",
        "outputId": "5deac3a0-7d98-4465-e095-cdca3f53581f"
      },
      "outputs": [
        {
          "output_type": "execute_result",
          "data": {
            "text/plain": [
              "array([[[108,   8,  75,  48, 107, 156],\n",
              "        [190, 104, 174, 191,  49,  81],\n",
              "        [  5,  90, 172,  45,  16, 156]],\n",
              "\n",
              "       [[ 16,  75, 191, 131, 179,  32],\n",
              "        [ 70, 180, 144,  88, 114, 119],\n",
              "        [ 27, 107, 152, 168, 106,  93]]])"
            ]
          },
          "metadata": {},
          "execution_count": 4
        }
      ],
      "source": [
        "# Criando um array de 3 dimensões\n",
        "a3D = np.random.randint(1,200, (2,3,6)) # 2 páginas/faces, 3 linhas, 6 colunas\n",
        "a3D"
      ]
    },
    {
      "cell_type": "code",
      "execution_count": 5,
      "metadata": {
        "collapsed": true,
        "colab": {
          "base_uri": "https://localhost:8080/"
        },
        "id": "MsSk65bj6-fb",
        "outputId": "4c30630b-ab96-4f52-b0c6-2b3e0c766552"
      },
      "outputs": [
        {
          "output_type": "execute_result",
          "data": {
            "text/plain": [
              "array([ -1, 127, 173, 183, 185, 190,  56,  21,  10,  31,  69,  22])"
            ]
          },
          "metadata": {},
          "execution_count": 5
        }
      ],
      "source": [
        "# Alterando o elemento do índice 0\n",
        "a1D[0] = -1\n",
        "a1D"
      ]
    },
    {
      "cell_type": "code",
      "execution_count": 6,
      "metadata": {
        "collapsed": true,
        "colab": {
          "base_uri": "https://localhost:8080/"
        },
        "id": "4Md8zdK16-fc",
        "outputId": "dd0ffa05-3adc-4bf8-9bdc-c44d149b8158"
      },
      "outputs": [
        {
          "output_type": "execute_result",
          "data": {
            "text/plain": [
              "array([[ 37, 136,  37,  56],\n",
              "       [119,  73,  -1, 167],\n",
              "       [190,  63,  27,  42]])"
            ]
          },
          "metadata": {},
          "execution_count": 6
        }
      ],
      "source": [
        "# Alterando o elemento da linha 1, coluna 2\n",
        "a2D[1][2] = -1\n",
        "a2D"
      ]
    },
    {
      "cell_type": "code",
      "execution_count": 7,
      "metadata": {
        "collapsed": true,
        "colab": {
          "base_uri": "https://localhost:8080/"
        },
        "id": "otR62Bhg6-fc",
        "outputId": "0de749d3-664a-4bb1-e1bf-aff50a13fe49"
      },
      "outputs": [
        {
          "output_type": "execute_result",
          "data": {
            "text/plain": [
              "array([[[108,   8,  75,  48, 107, 156],\n",
              "        [190, 104, 174, 191,  49,  81],\n",
              "        [  5,  90, 172,  45,  16, 156]],\n",
              "\n",
              "       [[ 16,  75, 191, 131, 179,  32],\n",
              "        [ 70, 180, 144,  88, 114, 119],\n",
              "        [ 27, 107, 152, 168,  -1,  93]]])"
            ]
          },
          "metadata": {},
          "execution_count": 7
        }
      ],
      "source": [
        "# Alterando o elemento da face 1, linha 2, coluna 4\n",
        "a3D[1][2][4] = -1\n",
        "a3D"
      ]
    },
    {
      "cell_type": "code",
      "execution_count": 8,
      "metadata": {
        "collapsed": true,
        "colab": {
          "base_uri": "https://localhost:8080/"
        },
        "id": "wyqRP9Uc6-fc",
        "outputId": "3ef0d183-8ce2-46f3-e0e4-94c92abc1bbb"
      },
      "outputs": [
        {
          "output_type": "execute_result",
          "data": {
            "text/plain": [
              "array([ -1, 127, 173, 183, 185, 190,  56,  21,  10,  31,  69,  22, 100,\n",
              "       130])"
            ]
          },
          "metadata": {},
          "execution_count": 8
        }
      ],
      "source": [
        "# Retorna array com elementos adicionados no final\n",
        "a1D_modificado = np.append(a1D, [100, 130])\n",
        "a1D_modificado"
      ]
    },
    {
      "cell_type": "code",
      "execution_count": 9,
      "metadata": {
        "collapsed": true,
        "colab": {
          "base_uri": "https://localhost:8080/"
        },
        "id": "TZZwFALs6-fc",
        "outputId": "784ceca6-7964-4433-a3ce-c3a82d799bd9"
      },
      "outputs": [
        {
          "output_type": "execute_result",
          "data": {
            "text/plain": [
              "array([ -1, 127, 173, 183, 185, 190,  56,  21,  10,  31,  69,  22])"
            ]
          },
          "metadata": {},
          "execution_count": 9
        }
      ],
      "source": [
        "a1D # a1D não foi modificado"
      ]
    },
    {
      "cell_type": "code",
      "execution_count": 10,
      "metadata": {
        "collapsed": true,
        "colab": {
          "base_uri": "https://localhost:8080/"
        },
        "id": "OFBYFwhA6-fc",
        "outputId": "ce25d6b0-1a07-452c-d5ea-044281a318a0"
      },
      "outputs": [
        {
          "output_type": "execute_result",
          "data": {
            "text/plain": [
              "array([ 37, 136,  37,  56, 119,  73,  -1, 167, 190,  63,  27,  42, 100,\n",
              "       130])"
            ]
          },
          "metadata": {},
          "execution_count": 10
        }
      ],
      "source": [
        "a2D_modificado = np.append(a2D, [100, 130]) # Lineariza a2D e insere os elementos no final\n",
        "a2D_modificado"
      ]
    },
    {
      "cell_type": "code",
      "execution_count": 11,
      "metadata": {
        "collapsed": true,
        "colab": {
          "base_uri": "https://localhost:8080/"
        },
        "id": "P8tWS3aP6-fc",
        "outputId": "44eb3e9c-713a-4c79-b138-31adf0ed6680"
      },
      "outputs": [
        {
          "output_type": "execute_result",
          "data": {
            "text/plain": [
              "array([[ 37, 136,  37,  56],\n",
              "       [119,  73,  -1, 167],\n",
              "       [190,  63,  27,  42]])"
            ]
          },
          "metadata": {},
          "execution_count": 11
        }
      ],
      "source": [
        "a2D # a2D não foi modificado"
      ]
    },
    {
      "cell_type": "code",
      "execution_count": 12,
      "metadata": {
        "collapsed": true,
        "colab": {
          "base_uri": "https://localhost:8080/"
        },
        "id": "wNQs5Wd_6-fc",
        "outputId": "c3ae483f-c7df-41cc-a0c7-6547252b87f1"
      },
      "outputs": [
        {
          "output_type": "execute_result",
          "data": {
            "text/plain": [
              "array([108,   8,  75,  48, 107, 156, 190, 104, 174, 191,  49,  81,   5,\n",
              "        90, 172,  45,  16, 156,  16,  75, 191, 131, 179,  32,  70, 180,\n",
              "       144,  88, 114, 119,  27, 107, 152, 168,  -1,  93, 100, 130])"
            ]
          },
          "metadata": {},
          "execution_count": 12
        }
      ],
      "source": [
        "a3D_modificado = np.append(a3D, [100, 130]) # Lineariza a3D e insere os elementos no final\n",
        "a3D_modificado"
      ]
    },
    {
      "cell_type": "code",
      "execution_count": 13,
      "metadata": {
        "collapsed": true,
        "colab": {
          "base_uri": "https://localhost:8080/"
        },
        "id": "iXkN_8Gf6-fc",
        "outputId": "e33f9b41-c20c-4fa9-81d3-8fa4d2194140"
      },
      "outputs": [
        {
          "output_type": "execute_result",
          "data": {
            "text/plain": [
              "array([[[108,   8,  75,  48, 107, 156],\n",
              "        [190, 104, 174, 191,  49,  81],\n",
              "        [  5,  90, 172,  45,  16, 156]],\n",
              "\n",
              "       [[ 16,  75, 191, 131, 179,  32],\n",
              "        [ 70, 180, 144,  88, 114, 119],\n",
              "        [ 27, 107, 152, 168,  -1,  93]]])"
            ]
          },
          "metadata": {},
          "execution_count": 13
        }
      ],
      "source": [
        "a3D # a3D não foi modificado"
      ]
    },
    {
      "cell_type": "code",
      "execution_count": 14,
      "metadata": {
        "collapsed": true,
        "colab": {
          "base_uri": "https://localhost:8080/"
        },
        "id": "lTdNKf1z6-fc",
        "outputId": "db64bdfd-19fa-49b8-802d-7f6dce8ff4a2"
      },
      "outputs": [
        {
          "output_type": "stream",
          "name": "stdout",
          "text": [
            "[ -1 127 173 183 185 190  56  21  10  31  69  22 100 130]\n",
            "[173 185 190  56  21  10  31  69  22 100 130]\n"
          ]
        }
      ],
      "source": [
        "a1D_modificado2 = np.delete(a1D_modificado, [0, 1, 3])\n",
        "print(a1D_modificado)\n",
        "print(a1D_modificado2)"
      ]
    },
    {
      "cell_type": "markdown",
      "metadata": {
        "id": "QQMHov-s6-fd"
      },
      "source": [
        "### Comparação entre arrays"
      ]
    },
    {
      "cell_type": "code",
      "execution_count": 15,
      "metadata": {
        "collapsed": true,
        "colab": {
          "base_uri": "https://localhost:8080/"
        },
        "id": "xxPAXkeD6-fd",
        "outputId": "d1145ad1-ef89-4c39-9ed1-466b3c484d4c"
      },
      "outputs": [
        {
          "output_type": "execute_result",
          "data": {
            "text/plain": [
              "array([False,  True, False,  True,  True])"
            ]
          },
          "metadata": {},
          "execution_count": 15
        }
      ],
      "source": [
        "a1D = np.array([1, 2, 3, 4, 5])\n",
        "b1D = np.array([3, 2, 1, 4, 5])\n",
        "a1D == b1D # Comparação elemento a elemento"
      ]
    },
    {
      "cell_type": "code",
      "execution_count": 16,
      "metadata": {
        "collapsed": true,
        "colab": {
          "base_uri": "https://localhost:8080/"
        },
        "id": "nv3z_vMP6-fd",
        "outputId": "2ec6fc58-61cc-401d-f1dd-affefcd8cdd3"
      },
      "outputs": [
        {
          "output_type": "execute_result",
          "data": {
            "text/plain": [
              "array([3, 8, 2, 1, 1, 1, 5, 9, 7, 4, 3, 9, 5, 5, 9, 4, 6, 1, 3, 8])"
            ]
          },
          "metadata": {},
          "execution_count": 16
        }
      ],
      "source": [
        "c1D = np.random.randint(1,10,20)\n",
        "c1D"
      ]
    },
    {
      "cell_type": "code",
      "execution_count": 17,
      "metadata": {
        "collapsed": true,
        "colab": {
          "base_uri": "https://localhost:8080/"
        },
        "id": "m6x9IbKX6-fd",
        "outputId": "1eb733da-b45a-413b-b235-8fefbb120c50"
      },
      "outputs": [
        {
          "output_type": "execute_result",
          "data": {
            "text/plain": [
              "array([False, False, False, False, False, False,  True, False, False,\n",
              "       False, False, False,  True,  True, False, False, False, False,\n",
              "       False, False])"
            ]
          },
          "metadata": {},
          "execution_count": 17
        }
      ],
      "source": [
        "c1D == 5"
      ]
    },
    {
      "cell_type": "code",
      "execution_count": 18,
      "metadata": {
        "collapsed": true,
        "colab": {
          "base_uri": "https://localhost:8080/"
        },
        "id": "i28hUUH76-fd",
        "outputId": "982f0d39-7305-4f22-9bc3-7891c368c4e2"
      },
      "outputs": [
        {
          "output_type": "execute_result",
          "data": {
            "text/plain": [
              "array([5, 5, 5])"
            ]
          },
          "metadata": {},
          "execution_count": 18
        }
      ],
      "source": [
        "c1D[c1D == 5]"
      ]
    },
    {
      "cell_type": "markdown",
      "metadata": {
        "id": "UMq_5qjm6-fd"
      },
      "source": [
        "### Operações entre arrays e escalares"
      ]
    },
    {
      "cell_type": "code",
      "execution_count": 19,
      "metadata": {
        "collapsed": true,
        "colab": {
          "base_uri": "https://localhost:8080/"
        },
        "id": "NNm3BDuT6-fd",
        "outputId": "47ecabff-e9f7-4251-e83a-1afcfe54d2ea"
      },
      "outputs": [
        {
          "output_type": "execute_result",
          "data": {
            "text/plain": [
              "array([ 1,  2,  3,  4,  5,  6,  7,  8,  9, 10])"
            ]
          },
          "metadata": {},
          "execution_count": 19
        }
      ],
      "source": [
        "a1D = np.arange(1,11)\n",
        "a1D"
      ]
    },
    {
      "cell_type": "code",
      "execution_count": 20,
      "metadata": {
        "collapsed": true,
        "colab": {
          "base_uri": "https://localhost:8080/"
        },
        "id": "ohUDiIm86-fd",
        "outputId": "a3a3852e-d10e-4940-9d07-bcf8337af116"
      },
      "outputs": [
        {
          "output_type": "execute_result",
          "data": {
            "text/plain": [
              "array([ 1,  3,  5,  7,  9, 11, 13, 15, 17, 19])"
            ]
          },
          "metadata": {},
          "execution_count": 20
        }
      ],
      "source": [
        "b1D = np.arange(1,20,2)\n",
        "b1D"
      ]
    },
    {
      "cell_type": "code",
      "execution_count": 21,
      "metadata": {
        "collapsed": true,
        "colab": {
          "base_uri": "https://localhost:8080/"
        },
        "id": "z3lmBFSq6-fd",
        "outputId": "b48977f1-f6b3-427e-808d-508202b433ae"
      },
      "outputs": [
        {
          "output_type": "execute_result",
          "data": {
            "text/plain": [
              "array([ 2,  4,  6,  8, 10, 12, 14, 16, 18, 20])"
            ]
          },
          "metadata": {},
          "execution_count": 21
        }
      ],
      "source": [
        "c1D = 2 * a1D # Cada elemento de a1D será multiplicado por 2\n",
        "c1D"
      ]
    },
    {
      "cell_type": "code",
      "execution_count": 22,
      "metadata": {
        "collapsed": true,
        "colab": {
          "base_uri": "https://localhost:8080/"
        },
        "id": "dyrrjuhw6-fd",
        "outputId": "9d09e9bb-d7ee-455b-e603-8f838dc270a2"
      },
      "outputs": [
        {
          "output_type": "execute_result",
          "data": {
            "text/plain": [
              "array([ 6,  8, 10, 12, 14, 16, 18, 20, 22, 24])"
            ]
          },
          "metadata": {},
          "execution_count": 22
        }
      ],
      "source": [
        "d1D = b1D + 5 # Soma 5 para cada elemento de b1D\n",
        "d1D"
      ]
    },
    {
      "cell_type": "code",
      "execution_count": 23,
      "metadata": {
        "collapsed": true,
        "colab": {
          "base_uri": "https://localhost:8080/"
        },
        "id": "jsk2vukQ6-fd",
        "outputId": "9fc0a09d-756a-4a93-b251-7babfba757d5"
      },
      "outputs": [
        {
          "output_type": "execute_result",
          "data": {
            "text/plain": [
              "array([-2,  0,  2,  4,  6,  8, 10, 12, 14, 16])"
            ]
          },
          "metadata": {},
          "execution_count": 23
        }
      ],
      "source": [
        "e1D = b1D - 3\n",
        "e1D"
      ]
    },
    {
      "cell_type": "code",
      "execution_count": 24,
      "metadata": {
        "collapsed": true,
        "colab": {
          "base_uri": "https://localhost:8080/"
        },
        "id": "NyecmIwN6-fd",
        "outputId": "ba233ba5-8e67-4ba4-a2c1-153be2d8b2f6"
      },
      "outputs": [
        {
          "output_type": "execute_result",
          "data": {
            "text/plain": [
              "array([0.2, 0.4, 0.6, 0.8, 1. , 1.2, 1.4, 1.6, 1.8, 2. ])"
            ]
          },
          "metadata": {},
          "execution_count": 24
        }
      ],
      "source": [
        "f1D = a1D / 5\n",
        "f1D"
      ]
    },
    {
      "cell_type": "code",
      "execution_count": 25,
      "metadata": {
        "collapsed": true,
        "colab": {
          "base_uri": "https://localhost:8080/"
        },
        "id": "04S5D1l66-fd",
        "outputId": "c67aa8a2-f2cc-4153-8726-7078beed0016"
      },
      "outputs": [
        {
          "output_type": "execute_result",
          "data": {
            "text/plain": [
              "array([-4. , -2.2, -0.4,  1.4,  3.2,  5. ,  6.8,  8.6, 10.4, 12.2, 14. ,\n",
              "       15.8, 17.6, 19.4, 21.2, 23. , 24.8, 26.6, 28.4, 30.2, 32. , 33.8,\n",
              "       35.6, 37.4, 39.2, 41. , 42.8, 44.6, 46.4, 48.2, 50. , 51.8, 53.6,\n",
              "       55.4, 57.2, 59. , 60.8, 62.6, 64.4, 66.2, 68. , 69.8, 71.6, 73.4,\n",
              "       75.2, 77. , 78.8, 80.6, 82.4, 84.2, 86. , 87.8, 89.6, 91.4, 93.2,\n",
              "       95. ])"
            ]
          },
          "metadata": {},
          "execution_count": 25
        }
      ],
      "source": [
        "celsius = np.arange(-20, 36) # Cria um array com o valores de -20 a 35, representando a temperatura em graus Celsius\n",
        "fahrenheit = celsius * (9/5) + 32 # Cria um array convertendo cada valor em Celsius para fahrenheit\n",
        "\n",
        "fahrenheit"
      ]
    },
    {
      "cell_type": "code",
      "execution_count": 26,
      "metadata": {
        "collapsed": true,
        "colab": {
          "base_uri": "https://localhost:8080/"
        },
        "id": "IOEINh456-fd",
        "outputId": "b9dbef5f-e487-4ad8-aa52-2f5226fdff7f"
      },
      "outputs": [
        {
          "output_type": "stream",
          "name": "stdout",
          "text": [
            "[ 1  2  3  4  5  6  7  8  9 10]\n",
            "[ 1  3  5  7  9 11 13 15 17 19]\n",
            "-------------------------------\n",
            "[ 2  5  8 11 14 17 20 23 26 29]\n"
          ]
        }
      ],
      "source": [
        "# Somando cada elemento de a1D a b1D\n",
        "g1D = a1D + b1D\n",
        "print(a1D)\n",
        "print(b1D)\n",
        "print(\"-\"*31)\n",
        "print(g1D)"
      ]
    },
    {
      "cell_type": "code",
      "execution_count": 27,
      "metadata": {
        "collapsed": true,
        "colab": {
          "base_uri": "https://localhost:8080/"
        },
        "id": "ENkNE9vP6-fd",
        "outputId": "8a5891f8-f816-4505-9899-3621c46f2417"
      },
      "outputs": [
        {
          "output_type": "stream",
          "name": "stdout",
          "text": [
            "[ 1  2  3  4  5  6  7  8  9 10]\n",
            "[ 1  3  5  7  9 11 13 15 17 19]\n",
            "-------------------------------\n",
            "[ 2  5  8 11 14 17 20 23 26 29]\n"
          ]
        }
      ],
      "source": [
        "# Outra forma de somar cada elemento de a1D a b1D\n",
        "h1D = np.add(a1D, b1D)\n",
        "print(a1D)\n",
        "print(b1D)\n",
        "print(\"-\"*31)\n",
        "print(h1D)"
      ]
    },
    {
      "cell_type": "code",
      "execution_count": 28,
      "metadata": {
        "collapsed": true,
        "colab": {
          "base_uri": "https://localhost:8080/"
        },
        "id": "9xBRKOrx6-fd",
        "outputId": "ebfb303a-672a-4a83-b3cd-9b3fe25b8c18"
      },
      "outputs": [
        {
          "output_type": "stream",
          "name": "stdout",
          "text": [
            "[ 2  5  8 11 14 17 20 23 26 29]\n",
            "[ 2  5  8 11 14 17 20 23 26 29]\n",
            "-------------------------------\n",
            "[0 0 0 0 0 0 0 0 0 0]\n"
          ]
        }
      ],
      "source": [
        "i1D = h1D - g1D\n",
        "print(h1D)\n",
        "print(g1D)\n",
        "print(\"-\"*31)\n",
        "print(i1D)"
      ]
    },
    {
      "cell_type": "code",
      "execution_count": 29,
      "metadata": {
        "collapsed": true,
        "colab": {
          "base_uri": "https://localhost:8080/"
        },
        "id": "pM_Wb0Hv6-fd",
        "outputId": "6c8f3bb4-d19d-49d0-cf32-4ac5edce8b9a"
      },
      "outputs": [
        {
          "output_type": "stream",
          "name": "stdout",
          "text": [
            "[ 2  5  8 11 14 17 20 23 26 29]\n",
            "[ 2  5  8 11 14 17 20 23 26 29]\n",
            "-------------------------------\n",
            "[0 0 0 0 0 0 0 0 0 0]\n"
          ]
        }
      ],
      "source": [
        "# Outra forma de somar cada elemento de a1D a b1D\n",
        "j1D = np.subtract(h1D, g1D)\n",
        "print(h1D)\n",
        "print(g1D)\n",
        "print(\"-\"*31)\n",
        "print(j1D)"
      ]
    },
    {
      "cell_type": "code",
      "execution_count": 30,
      "metadata": {
        "collapsed": true,
        "colab": {
          "base_uri": "https://localhost:8080/"
        },
        "id": "iAyl7_NV6-fd",
        "outputId": "8bf6e099-adf5-443d-ed45-28f1da431700"
      },
      "outputs": [
        {
          "output_type": "execute_result",
          "data": {
            "text/plain": [
              "array([1, 2, 3, 4, 5])"
            ]
          },
          "metadata": {},
          "execution_count": 30
        }
      ],
      "source": [
        "a1D = np.arange(1, 6)\n",
        "a1D"
      ]
    },
    {
      "cell_type": "code",
      "execution_count": 31,
      "metadata": {
        "collapsed": true,
        "colab": {
          "base_uri": "https://localhost:8080/"
        },
        "id": "Y5hxjDp06-fe",
        "outputId": "5eb02022-b00d-4c07-8935-a7d556c52212"
      },
      "outputs": [
        {
          "output_type": "execute_result",
          "data": {
            "text/plain": [
              "array([ 6,  7,  8,  9, 10])"
            ]
          },
          "metadata": {},
          "execution_count": 31
        }
      ],
      "source": [
        "b1D = np.arange(6,11)\n",
        "b1D"
      ]
    },
    {
      "cell_type": "code",
      "execution_count": 32,
      "metadata": {
        "collapsed": true,
        "colab": {
          "base_uri": "https://localhost:8080/"
        },
        "id": "k3u29ovF6-fe",
        "outputId": "bb2b157f-f7a3-4147-e3c7-e5cdbf420ad1"
      },
      "outputs": [
        {
          "output_type": "execute_result",
          "data": {
            "text/plain": [
              "array([ 6, 14, 24, 36, 50])"
            ]
          },
          "metadata": {},
          "execution_count": 32
        }
      ],
      "source": [
        "c1D = a1D * b1D\n",
        "c1D"
      ]
    },
    {
      "cell_type": "code",
      "execution_count": 33,
      "metadata": {
        "collapsed": true,
        "colab": {
          "base_uri": "https://localhost:8080/"
        },
        "id": "GHwruZRY6-fe",
        "outputId": "13e8daf4-b66a-45e8-a0d2-68387ab464c9"
      },
      "outputs": [
        {
          "output_type": "execute_result",
          "data": {
            "text/plain": [
              "array([ 6, 14, 24, 36, 50])"
            ]
          },
          "metadata": {},
          "execution_count": 33
        }
      ],
      "source": [
        "d1D = np.multiply(a1D, b1D)\n",
        "d1D"
      ]
    },
    {
      "cell_type": "code",
      "execution_count": 34,
      "metadata": {
        "collapsed": true,
        "colab": {
          "base_uri": "https://localhost:8080/"
        },
        "id": "7bp3evPa6-fe",
        "outputId": "6245f1ac-f38a-4728-f89a-d2300f87efb2"
      },
      "outputs": [
        {
          "output_type": "execute_result",
          "data": {
            "text/plain": [
              "array([ 6.,  7.,  8.,  9., 10.])"
            ]
          },
          "metadata": {},
          "execution_count": 34
        }
      ],
      "source": [
        "e1D = c1D / a1D\n",
        "e1D"
      ]
    },
    {
      "cell_type": "code",
      "execution_count": 35,
      "metadata": {
        "collapsed": true,
        "colab": {
          "base_uri": "https://localhost:8080/"
        },
        "id": "7KbYeRa06-fi",
        "outputId": "a4b305d3-e1f9-465d-a1b6-06e44cddf9f1"
      },
      "outputs": [
        {
          "output_type": "execute_result",
          "data": {
            "text/plain": [
              "array([ 6.,  7.,  8.,  9., 10.])"
            ]
          },
          "metadata": {},
          "execution_count": 35
        }
      ],
      "source": [
        "f1D = np.divide(c1D, a1D)\n",
        "f1D"
      ]
    },
    {
      "cell_type": "code",
      "execution_count": 36,
      "metadata": {
        "collapsed": true,
        "colab": {
          "base_uri": "https://localhost:8080/"
        },
        "id": "ot9FX2ls6-fi",
        "outputId": "40806e85-2c2c-4041-ae4f-6f3143a90715"
      },
      "outputs": [
        {
          "output_type": "execute_result",
          "data": {
            "text/plain": [
              "array([1, 2, 3, 4, 5, 6, 7, 8, 9])"
            ]
          },
          "metadata": {},
          "execution_count": 36
        }
      ],
      "source": [
        "g1D = np.arange(1,10)\n",
        "g1D"
      ]
    },
    {
      "cell_type": "code",
      "execution_count": 40,
      "metadata": {
        "collapsed": true,
        "colab": {
          "base_uri": "https://localhost:8080/"
        },
        "id": "LY2vZdm26-fi",
        "outputId": "849782c6-ce4b-4694-cd06-01eeb088fb78"
      },
      "outputs": [
        {
          "output_type": "execute_result",
          "data": {
            "text/plain": [
              "array([1.        , 1.41421356, 1.73205081, 2.        , 2.23606798,\n",
              "       2.44948974, 2.64575131, 2.82842712, 3.        ])"
            ]
          },
          "metadata": {},
          "execution_count": 40
        }
      ],
      "source": [
        "raiz1D = np.sqrt(g1D)\n",
        "raiz1D"
      ]
    },
    {
      "cell_type": "markdown",
      "metadata": {
        "id": "cfh5teJq6-fi"
      },
      "source": [
        "### Algumas funções\n",
        "\n",
        "1D - dimensão coluna\n",
        "2D - 2 eixos. 0 -> coluna 1 -> linha\n",
        "3D - 3 eixos. 0 -> coluna 1 -> linha 2 -> faces"
      ]
    },
    {
      "cell_type": "code",
      "execution_count": 50,
      "metadata": {
        "collapsed": true,
        "colab": {
          "base_uri": "https://localhost:8080/"
        },
        "id": "nHcHDJhW6-fi",
        "outputId": "3ae9c123-f5b7-4302-850b-a97888445ea7"
      },
      "outputs": [
        {
          "output_type": "execute_result",
          "data": {
            "text/plain": [
              "array([[60, 41, 44, 60, 49, 46, 18, 26,  6, 83],\n",
              "       [89, 58, 63, 36, 58, 59, 43, 23, 68, 75],\n",
              "       [35, 46, 10,  2, 32, 50, 12, 36, 30, 72],\n",
              "       [58, 40, 90, 75, 43, 34, 26, 26, 82, 54],\n",
              "       [76, 34, 89, 53, 18,  7,  6, 89, 30, 85]])"
            ]
          },
          "metadata": {},
          "execution_count": 50
        }
      ],
      "source": [
        "d2D = np.random.randint(1, 101, (5,10)) # Array de 5 linhas x 10 colunas preenchidos com valores aleatórios entre 1 e 100\n",
        "d2D"
      ]
    },
    {
      "cell_type": "markdown",
      "metadata": {
        "id": "jaIuR4z16-fi"
      },
      "source": [
        "#### Obs: como os valores valores são gerados aleatoriamente, sua matriz provavelmente será diferente da gerada acima"
      ]
    },
    {
      "cell_type": "code",
      "execution_count": 51,
      "metadata": {
        "collapsed": true,
        "colab": {
          "base_uri": "https://localhost:8080/"
        },
        "id": "FUZgJ-9f6-fi",
        "outputId": "df42df23-3550-432a-9bd1-79daae148b7e"
      },
      "outputs": [
        {
          "output_type": "execute_result",
          "data": {
            "text/plain": [
              "2345"
            ]
          },
          "metadata": {},
          "execution_count": 51
        }
      ],
      "source": [
        "# Soma de todos os elementos\n",
        "d2D.sum()"
      ]
    },
    {
      "cell_type": "code",
      "execution_count": 52,
      "metadata": {
        "collapsed": true,
        "colab": {
          "base_uri": "https://localhost:8080/"
        },
        "id": "MAgst6Z86-fi",
        "outputId": "c4a20f30-9ca6-454f-c232-69f504ba7b63"
      },
      "outputs": [
        {
          "output_type": "execute_result",
          "data": {
            "text/plain": [
              "array([318, 219, 296, 226, 200, 196, 105, 200, 216, 369])"
            ]
          },
          "metadata": {},
          "execution_count": 52
        }
      ],
      "source": [
        "# Soma de todos os elementos de cada coluna (eixo 0)\n",
        "d2D.sum(axis = 0)"
      ]
    },
    {
      "cell_type": "code",
      "execution_count": 53,
      "metadata": {
        "collapsed": true,
        "colab": {
          "base_uri": "https://localhost:8080/"
        },
        "id": "8gxZjNNe6-fi",
        "outputId": "2fb4fe55-4d35-4c38-dd74-4147f09d40f9"
      },
      "outputs": [
        {
          "output_type": "execute_result",
          "data": {
            "text/plain": [
              "array([433, 572, 325, 528, 487])"
            ]
          },
          "metadata": {},
          "execution_count": 53
        }
      ],
      "source": [
        "# Soma de todos os elementos de cada linha (eixo 1)\n",
        "d2D.sum(axis = 1)"
      ]
    },
    {
      "cell_type": "code",
      "execution_count": 54,
      "metadata": {
        "collapsed": true,
        "colab": {
          "base_uri": "https://localhost:8080/"
        },
        "id": "ZwVOOOYD6-fi",
        "outputId": "344841f9-d84b-4afb-f522-621a06abd4a0"
      },
      "outputs": [
        {
          "output_type": "execute_result",
          "data": {
            "text/plain": [
              "array([318, 219, 296, 226, 200, 196, 105, 200, 216, 369])"
            ]
          },
          "metadata": {},
          "execution_count": 54
        }
      ],
      "source": [
        "somacol = sum(d2D) # A função sum() do Python retornará a soma de todas as colunas\n",
        "somacol"
      ]
    },
    {
      "cell_type": "code",
      "execution_count": 55,
      "metadata": {
        "collapsed": true,
        "colab": {
          "base_uri": "https://localhost:8080/"
        },
        "id": "3zpfms2w6-fi",
        "outputId": "e08d16c4-62f1-40bf-d04e-f09ca47fa287"
      },
      "outputs": [
        {
          "output_type": "execute_result",
          "data": {
            "text/plain": [
              "2"
            ]
          },
          "metadata": {},
          "execution_count": 55
        }
      ],
      "source": [
        "# Retorna o menor valor geral\n",
        "d2D.min()"
      ]
    },
    {
      "cell_type": "code",
      "execution_count": 56,
      "metadata": {
        "collapsed": true,
        "colab": {
          "base_uri": "https://localhost:8080/"
        },
        "id": "PncVNqOQ6-fj",
        "outputId": "e860d509-e1d1-4e8a-9379-d2f57e548329"
      },
      "outputs": [
        {
          "output_type": "execute_result",
          "data": {
            "text/plain": [
              "array([35, 34, 10,  2, 18,  7,  6, 23,  6, 54])"
            ]
          },
          "metadata": {},
          "execution_count": 56
        }
      ],
      "source": [
        "# Retorna o menor valor de cada coluna (eixo 0)\n",
        "d2D.min(axis=0)"
      ]
    },
    {
      "cell_type": "code",
      "execution_count": 57,
      "metadata": {
        "collapsed": true,
        "colab": {
          "base_uri": "https://localhost:8080/"
        },
        "id": "bruqO74v6-fj",
        "outputId": "94c0e63b-39b9-4973-e791-0be3e1d0e22b"
      },
      "outputs": [
        {
          "output_type": "execute_result",
          "data": {
            "text/plain": [
              "array([ 6, 23,  2, 26,  6])"
            ]
          },
          "metadata": {},
          "execution_count": 57
        }
      ],
      "source": [
        "# Retorna o menor valor de cada linha (eixo 1)\n",
        "d2D.min(axis=1)"
      ]
    },
    {
      "cell_type": "code",
      "execution_count": 58,
      "metadata": {
        "collapsed": true,
        "colab": {
          "base_uri": "https://localhost:8080/"
        },
        "id": "MryuBk4u6-fj",
        "outputId": "0af9c20e-5617-4c07-dbb6-9e005d13b1e8"
      },
      "outputs": [
        {
          "output_type": "execute_result",
          "data": {
            "text/plain": [
              "90"
            ]
          },
          "metadata": {},
          "execution_count": 58
        }
      ],
      "source": [
        "# Retorna o maior valor geral\n",
        "d2D.max()"
      ]
    },
    {
      "cell_type": "code",
      "execution_count": 59,
      "metadata": {
        "collapsed": true,
        "colab": {
          "base_uri": "https://localhost:8080/"
        },
        "id": "QNRB7Rsj6-fj",
        "outputId": "fa58bc9c-859b-4f40-80b9-bb08f3337231"
      },
      "outputs": [
        {
          "output_type": "execute_result",
          "data": {
            "text/plain": [
              "array([89, 58, 90, 75, 58, 59, 43, 89, 82, 85])"
            ]
          },
          "metadata": {},
          "execution_count": 59
        }
      ],
      "source": [
        "# Retorna o maior valor de cada coluna (eixo 0)\n",
        "d2D.max(axis=0)"
      ]
    },
    {
      "cell_type": "code",
      "execution_count": 60,
      "metadata": {
        "collapsed": true,
        "colab": {
          "base_uri": "https://localhost:8080/"
        },
        "id": "lhy6FfKv6-fj",
        "outputId": "0dbf1074-bd42-4093-f2e9-6f78736af146"
      },
      "outputs": [
        {
          "output_type": "execute_result",
          "data": {
            "text/plain": [
              "array([83, 89, 72, 90, 89])"
            ]
          },
          "metadata": {},
          "execution_count": 60
        }
      ],
      "source": [
        "# Retorna o maior valor de cada linha (eixo 1)\n",
        "d2D.max(axis=1)"
      ]
    },
    {
      "cell_type": "code",
      "execution_count": 61,
      "metadata": {
        "collapsed": true,
        "colab": {
          "base_uri": "https://localhost:8080/"
        },
        "id": "A3E642TI6-fj",
        "outputId": "f794113e-ef48-4458-d52b-3555ee0ef8dd"
      },
      "outputs": [
        {
          "output_type": "execute_result",
          "data": {
            "text/plain": [
              "array([  60,  101,  145,  205,  254,  300,  318,  344,  350,  433,  522,\n",
              "        580,  643,  679,  737,  796,  839,  862,  930, 1005, 1040, 1086,\n",
              "       1096, 1098, 1130, 1180, 1192, 1228, 1258, 1330, 1388, 1428, 1518,\n",
              "       1593, 1636, 1670, 1696, 1722, 1804, 1858, 1934, 1968, 2057, 2110,\n",
              "       2128, 2135, 2141, 2230, 2260, 2345])"
            ]
          },
          "metadata": {},
          "execution_count": 61
        }
      ],
      "source": [
        "# Retorna a soma cumulativa\n",
        "d2D.cumsum()"
      ]
    },
    {
      "cell_type": "code",
      "execution_count": 62,
      "metadata": {
        "collapsed": true,
        "colab": {
          "base_uri": "https://localhost:8080/"
        },
        "id": "S0qm1jPm6-fj",
        "outputId": "2c66f2bf-f853-462a-ad2e-f0e93fe6367d"
      },
      "outputs": [
        {
          "output_type": "execute_result",
          "data": {
            "text/plain": [
              "array([[ 60,  41,  44,  60,  49,  46,  18,  26,   6,  83],\n",
              "       [149,  99, 107,  96, 107, 105,  61,  49,  74, 158],\n",
              "       [184, 145, 117,  98, 139, 155,  73,  85, 104, 230],\n",
              "       [242, 185, 207, 173, 182, 189,  99, 111, 186, 284],\n",
              "       [318, 219, 296, 226, 200, 196, 105, 200, 216, 369]])"
            ]
          },
          "metadata": {},
          "execution_count": 62
        }
      ],
      "source": [
        "# Retorna a soma cumulativa para cada coluna (eixo = 0)\n",
        "d2D.cumsum(axis = 0)"
      ]
    },
    {
      "cell_type": "code",
      "execution_count": 63,
      "metadata": {
        "collapsed": true,
        "colab": {
          "base_uri": "https://localhost:8080/"
        },
        "id": "zjncGZCA6-fj",
        "outputId": "e0b2e067-684a-47bc-c2ee-61ac1ba67660"
      },
      "outputs": [
        {
          "output_type": "execute_result",
          "data": {
            "text/plain": [
              "array([[60, 41, 44, 60, 49, 46, 18, 26,  6, 83],\n",
              "       [89, 58, 63, 36, 58, 59, 43, 23, 68, 75],\n",
              "       [35, 46, 10,  2, 32, 50, 12, 36, 30, 72],\n",
              "       [58, 40, 90, 75, 43, 34, 26, 26, 82, 54],\n",
              "       [76, 34, 89, 53, 18,  7,  6, 89, 30, 85]])"
            ]
          },
          "metadata": {},
          "execution_count": 63
        }
      ],
      "source": [
        "d2D"
      ]
    },
    {
      "cell_type": "code",
      "execution_count": 64,
      "metadata": {
        "collapsed": true,
        "colab": {
          "base_uri": "https://localhost:8080/"
        },
        "id": "EvUPfUZY6-fj",
        "outputId": "58549628-0211-4b9d-b1c4-8c2c31f6d59d"
      },
      "outputs": [
        {
          "output_type": "execute_result",
          "data": {
            "text/plain": [
              "array([[ 60, 101, 145, 205, 254, 300, 318, 344, 350, 433],\n",
              "       [ 89, 147, 210, 246, 304, 363, 406, 429, 497, 572],\n",
              "       [ 35,  81,  91,  93, 125, 175, 187, 223, 253, 325],\n",
              "       [ 58,  98, 188, 263, 306, 340, 366, 392, 474, 528],\n",
              "       [ 76, 110, 199, 252, 270, 277, 283, 372, 402, 487]])"
            ]
          },
          "metadata": {},
          "execution_count": 64
        }
      ],
      "source": [
        "# Retorna a soma cumulativa para cada linha (eixo = 1)\n",
        "x = d2D.cumsum(axis = 1)\n",
        "x"
      ]
    },
    {
      "cell_type": "code",
      "execution_count": 66,
      "metadata": {
        "collapsed": true,
        "colab": {
          "base_uri": "https://localhost:8080/"
        },
        "id": "F50c9New6-fj",
        "outputId": "47296468-bac8-4da6-b4fa-651e9f26e1e2"
      },
      "outputs": [
        {
          "output_type": "execute_result",
          "data": {
            "text/plain": [
              "46.9"
            ]
          },
          "metadata": {},
          "execution_count": 66
        }
      ],
      "source": [
        "# Retorna a média aritmética\n",
        "d2D.mean()"
      ]
    },
    {
      "cell_type": "code",
      "execution_count": 67,
      "metadata": {
        "collapsed": true,
        "colab": {
          "base_uri": "https://localhost:8080/"
        },
        "id": "xFFcX9vz6-fj",
        "outputId": "9b1ab2ca-d375-4afc-d2cc-097b8b8d815d"
      },
      "outputs": [
        {
          "output_type": "execute_result",
          "data": {
            "text/plain": [
              "array([63.6, 43.8, 59.2, 45.2, 40. , 39.2, 21. , 40. , 43.2, 73.8])"
            ]
          },
          "metadata": {},
          "execution_count": 67
        }
      ],
      "source": [
        "# Retorna a média aritmética para cada coluna (eixo = 0)\n",
        "d2D.mean(axis = 0)"
      ]
    },
    {
      "cell_type": "code",
      "execution_count": 68,
      "metadata": {
        "collapsed": true,
        "colab": {
          "base_uri": "https://localhost:8080/"
        },
        "id": "41TD6K0h6-fj",
        "outputId": "158fa7d9-9977-46e4-9e47-7b3b9b7b3ad6"
      },
      "outputs": [
        {
          "output_type": "execute_result",
          "data": {
            "text/plain": [
              "array([43.3, 57.2, 32.5, 52.8, 48.7])"
            ]
          },
          "metadata": {},
          "execution_count": 68
        }
      ],
      "source": [
        "# Retorna a média aritmética para cada linha (eixo = 1)\n",
        "d2D.mean(axis = 1)"
      ]
    },
    {
      "cell_type": "code",
      "execution_count": 69,
      "metadata": {
        "collapsed": true,
        "colab": {
          "base_uri": "https://localhost:8080/"
        },
        "id": "zp5mIkvx6-fj",
        "outputId": "ab65f53f-2ef3-4b41-86c5-5405a6e15af3"
      },
      "outputs": [
        {
          "output_type": "execute_result",
          "data": {
            "text/plain": [
              "24.737218922101974"
            ]
          },
          "metadata": {},
          "execution_count": 69
        }
      ],
      "source": [
        "# Retorna o desvio padrão\n",
        "d2D.std()"
      ]
    },
    {
      "cell_type": "code",
      "execution_count": 70,
      "metadata": {
        "collapsed": true,
        "colab": {
          "base_uri": "https://localhost:8080/"
        },
        "id": "ryJ_kQUg6-fj",
        "outputId": "d13be4f9-5964-4a51-c57b-07d7e8ae35ab"
      },
      "outputs": [
        {
          "output_type": "execute_result",
          "data": {
            "text/plain": [
              "array([18.22745182,  8.05977667, 30.00933188, 24.97518769, 13.87083271,\n",
              "       17.9933321 , 12.83744523, 24.89176571, 27.75896252, 11.01635148])"
            ]
          },
          "metadata": {},
          "execution_count": 70
        }
      ],
      "source": [
        "# Retorna o desvio padrão para cada coluna (eixo = 0)\n",
        "d2D.std(axis = 0)"
      ]
    },
    {
      "cell_type": "code",
      "execution_count": 71,
      "metadata": {
        "collapsed": true,
        "colab": {
          "base_uri": "https://localhost:8080/"
        },
        "id": "YfNtMXWR6-fj",
        "outputId": "d63f9ec7-c636-45fa-f297-2aa46157be95"
      },
      "outputs": [
        {
          "output_type": "execute_result",
          "data": {
            "text/plain": [
              "array([21.23699602, 18.1758081 , 19.82548864, 21.92623999, 32.24918604])"
            ]
          },
          "metadata": {},
          "execution_count": 71
        }
      ],
      "source": [
        "# Retorna o desvio padrão para cada linha (eixo = 1)\n",
        "d2D.std(axis = 1)"
      ]
    },
    {
      "cell_type": "code",
      "execution_count": 72,
      "metadata": {
        "collapsed": true,
        "colab": {
          "base_uri": "https://localhost:8080/"
        },
        "id": "NDj_IZIp6-fj",
        "outputId": "51a57639-c740-4687-ea2f-962cfdd7499e"
      },
      "outputs": [
        {
          "output_type": "execute_result",
          "data": {
            "text/plain": [
              "45.0"
            ]
          },
          "metadata": {},
          "execution_count": 72
        }
      ],
      "source": [
        "# Retorna a mediana (geral)\n",
        "np.median(d2D)"
      ]
    },
    {
      "cell_type": "code",
      "execution_count": 73,
      "metadata": {
        "collapsed": true,
        "colab": {
          "base_uri": "https://localhost:8080/"
        },
        "id": "xAopaJ6-6-fj",
        "outputId": "fb227bbc-9d08-43e6-b306-b5eea1cb37d1"
      },
      "outputs": [
        {
          "output_type": "execute_result",
          "data": {
            "text/plain": [
              "array([60., 41., 63., 53., 43., 46., 18., 26., 30., 75.])"
            ]
          },
          "metadata": {},
          "execution_count": 73
        }
      ],
      "source": [
        "# Retorna a mediana para cada coluna (eixo = 0)\n",
        "np.median(d2D, axis = 0)"
      ]
    },
    {
      "cell_type": "code",
      "execution_count": 74,
      "metadata": {
        "collapsed": true,
        "colab": {
          "base_uri": "https://localhost:8080/"
        },
        "id": "XP8CTWqr6-fj",
        "outputId": "9d7e655a-20f2-4944-e99c-c3d6d0257683"
      },
      "outputs": [
        {
          "output_type": "execute_result",
          "data": {
            "text/plain": [
              "array([45. , 58.5, 33.5, 48.5, 43.5])"
            ]
          },
          "metadata": {},
          "execution_count": 74
        }
      ],
      "source": [
        "# Retorna a mediana para cada linha (eixo = 1)\n",
        "np.median(d2D, axis = 1)"
      ]
    },
    {
      "cell_type": "markdown",
      "metadata": {
        "id": "_vew_IjY6-fk"
      },
      "source": [
        "### Copiando e concatenando arrays"
      ]
    },
    {
      "cell_type": "code",
      "execution_count": 75,
      "metadata": {
        "collapsed": true,
        "colab": {
          "base_uri": "https://localhost:8080/"
        },
        "id": "527mJMoC6-fk",
        "outputId": "1ad06998-b963-441d-f4d9-f45dc92a2a00"
      },
      "outputs": [
        {
          "output_type": "execute_result",
          "data": {
            "text/plain": [
              "array([[14, 12, 21,  5, 26],\n",
              "       [ 6, 42, 45, 40,  6],\n",
              "       [44, 25, 14, 35, 38],\n",
              "       [34,  2, 25, 47,  9]])"
            ]
          },
          "metadata": {},
          "execution_count": 75
        }
      ],
      "source": [
        "a2D = np.random.randint(1,50, (4,5))\n",
        "a2D"
      ]
    },
    {
      "cell_type": "code",
      "execution_count": 76,
      "metadata": {
        "collapsed": true,
        "colab": {
          "base_uri": "https://localhost:8080/"
        },
        "id": "nyUQnNk76-fk",
        "outputId": "2d3eb8d7-9f2b-4566-bfb2-1c91cad0ee29"
      },
      "outputs": [
        {
          "output_type": "execute_result",
          "data": {
            "text/plain": [
              "array([[83, 88, 98, 86, 70],\n",
              "       [62, 56, 67, 87, 76],\n",
              "       [95, 69, 66, 71, 59],\n",
              "       [70, 70, 66, 73, 90]])"
            ]
          },
          "metadata": {},
          "execution_count": 76
        }
      ],
      "source": [
        "b2D = np.random.randint(50,100, (4,5))\n",
        "b2D"
      ]
    },
    {
      "cell_type": "code",
      "execution_count": 77,
      "metadata": {
        "collapsed": true,
        "colab": {
          "base_uri": "https://localhost:8080/"
        },
        "id": "CayUlNcK6-fk",
        "outputId": "f1fb3552-85f5-4454-bf43-db48731e8cd7"
      },
      "outputs": [
        {
          "output_type": "execute_result",
          "data": {
            "text/plain": [
              "array([[14, 12, 21,  5, 26],\n",
              "       [ 6, 42, 45, 40,  6],\n",
              "       [44, 25, 14, 35, 38],\n",
              "       [34,  2, 25, 47,  9]])"
            ]
          },
          "metadata": {},
          "execution_count": 77
        }
      ],
      "source": [
        "c2D = a2D\n",
        "c2D"
      ]
    },
    {
      "cell_type": "code",
      "execution_count": 78,
      "metadata": {
        "collapsed": true,
        "colab": {
          "base_uri": "https://localhost:8080/"
        },
        "id": "eO908lTz6-fk",
        "outputId": "9f0ae10e-2026-4f4f-bbab-da715f978b99"
      },
      "outputs": [
        {
          "output_type": "execute_result",
          "data": {
            "text/plain": [
              "array([[-1, -1, 21, -1, 26],\n",
              "       [-1, 42, 45, 40, -1],\n",
              "       [44, 25, -1, 35, 38],\n",
              "       [34, -1, 25, 47, -1]])"
            ]
          },
          "metadata": {},
          "execution_count": 78
        }
      ],
      "source": [
        "# Aparentemente ocorreu uma cópia dos arrays, mas veja o que acontece se alterarmos alguns elementos\n",
        "c2D[c2D < 20] = -1\n",
        "c2D"
      ]
    },
    {
      "cell_type": "code",
      "execution_count": 79,
      "metadata": {
        "collapsed": true,
        "colab": {
          "base_uri": "https://localhost:8080/"
        },
        "id": "xHWvcLHP6-fl",
        "outputId": "a71030c1-496c-4423-d781-65852dc123c5"
      },
      "outputs": [
        {
          "output_type": "execute_result",
          "data": {
            "text/plain": [
              "array([[-1, -1, 21, -1, 26],\n",
              "       [-1, 42, 45, 40, -1],\n",
              "       [44, 25, -1, 35, 38],\n",
              "       [34, -1, 25, 47, -1]])"
            ]
          },
          "metadata": {},
          "execution_count": 79
        }
      ],
      "source": [
        "a2D"
      ]
    },
    {
      "cell_type": "markdown",
      "metadata": {
        "id": "GHXUKPme6-fl"
      },
      "source": [
        "Os elementos de a2D também foram alterados. :-("
      ]
    },
    {
      "cell_type": "code",
      "execution_count": 81,
      "metadata": {
        "collapsed": true,
        "colab": {
          "base_uri": "https://localhost:8080/"
        },
        "id": "06d5r6lg6-fl",
        "outputId": "4f829d4e-ae84-4624-96f8-cf07d07d2bba"
      },
      "outputs": [
        {
          "output_type": "execute_result",
          "data": {
            "text/plain": [
              "array([[ 5, 28,  4, 35, 10],\n",
              "       [41,  1, 46, 34, 40],\n",
              "       [41,  6, 37, 41, 31],\n",
              "       [36, 28, 26,  4, 37]])"
            ]
          },
          "metadata": {},
          "execution_count": 81
        }
      ],
      "source": [
        "# Redefinindo os elementos de a2D\n",
        "a2D = np.random.randint(1,50, (4,5))\n",
        "a2D"
      ]
    },
    {
      "cell_type": "code",
      "execution_count": 82,
      "metadata": {
        "collapsed": true,
        "colab": {
          "base_uri": "https://localhost:8080/"
        },
        "id": "6Ql_GkA26-fl",
        "outputId": "7cc9261c-ddeb-49df-8f75-9210afa0d5a0"
      },
      "outputs": [
        {
          "output_type": "execute_result",
          "data": {
            "text/plain": [
              "array([[ 5, 28,  4, 35, 10],\n",
              "       [41,  1, 46, 34, 40],\n",
              "       [41,  6, 37, 41, 31],\n",
              "       [36, 28, 26,  4, 37]])"
            ]
          },
          "metadata": {},
          "execution_count": 82
        }
      ],
      "source": [
        "# Forma correta de copiar um array parece que com a forma de copiar uma lista\n",
        "c2D = a2D.copy()\n",
        "c2D"
      ]
    },
    {
      "cell_type": "code",
      "execution_count": 83,
      "metadata": {
        "collapsed": true,
        "colab": {
          "base_uri": "https://localhost:8080/"
        },
        "id": "lPqJdNQp6-fl",
        "outputId": "a7e8de53-d1cb-4ea2-801c-c10ee6add694"
      },
      "outputs": [
        {
          "output_type": "execute_result",
          "data": {
            "text/plain": [
              "array([[-1, 28, -1, 35, -1],\n",
              "       [41, -1, 46, 34, 40],\n",
              "       [41, -1, 37, 41, 31],\n",
              "       [36, 28, 26, -1, 37]])"
            ]
          },
          "metadata": {},
          "execution_count": 83
        }
      ],
      "source": [
        "c2D[c2D < 20] = -1\n",
        "c2D"
      ]
    },
    {
      "cell_type": "code",
      "execution_count": 84,
      "metadata": {
        "collapsed": true,
        "colab": {
          "base_uri": "https://localhost:8080/"
        },
        "id": "HSzu15B26-fl",
        "outputId": "13df5300-328f-498d-97db-e9af3c9979b8"
      },
      "outputs": [
        {
          "output_type": "execute_result",
          "data": {
            "text/plain": [
              "array([[ 5, 28,  4, 35, 10],\n",
              "       [41,  1, 46, 34, 40],\n",
              "       [41,  6, 37, 41, 31],\n",
              "       [36, 28, 26,  4, 37]])"
            ]
          },
          "metadata": {},
          "execution_count": 84
        }
      ],
      "source": [
        "a2D"
      ]
    },
    {
      "cell_type": "markdown",
      "metadata": {
        "id": "956-ZO1B6-fl"
      },
      "source": [
        "Agora sim!!!"
      ]
    },
    {
      "cell_type": "markdown",
      "metadata": {
        "id": "2S3Jv7B-6-fl"
      },
      "source": [
        "### Ordenando os elementos de um array"
      ]
    },
    {
      "cell_type": "code",
      "execution_count": 85,
      "metadata": {
        "collapsed": true,
        "colab": {
          "base_uri": "https://localhost:8080/"
        },
        "id": "ijME2gxR6-fl",
        "outputId": "2c75f661-1c18-43e0-d9e9-fdaf809c32d9"
      },
      "outputs": [
        {
          "output_type": "execute_result",
          "data": {
            "text/plain": [
              "array([15, 73, 19, 72, 19, 16, 84, 85, 69, 13, 80, 33, 90, 91, 30])"
            ]
          },
          "metadata": {},
          "execution_count": 85
        }
      ],
      "source": [
        "a1D = np.random.randint(1,100, 15)\n",
        "a1D"
      ]
    },
    {
      "cell_type": "code",
      "execution_count": 86,
      "metadata": {
        "collapsed": true,
        "colab": {
          "base_uri": "https://localhost:8080/"
        },
        "id": "akHN-7bL6-fl",
        "outputId": "08f26a4e-5a56-44c6-bb1a-7b41688a1f2c"
      },
      "outputs": [
        {
          "output_type": "execute_result",
          "data": {
            "text/plain": [
              "array([13, 15, 16, 19, 19, 30, 33, 69, 72, 73, 80, 84, 85, 90, 91])"
            ]
          },
          "metadata": {},
          "execution_count": 86
        }
      ],
      "source": [
        "a1D.sort()\n",
        "a1D"
      ]
    },
    {
      "cell_type": "code",
      "execution_count": 89,
      "metadata": {
        "collapsed": true,
        "colab": {
          "base_uri": "https://localhost:8080/"
        },
        "id": "DOHvetBw6-fl",
        "outputId": "46922072-3710-4081-a41e-3ef8f9c83821"
      },
      "outputs": [
        {
          "output_type": "execute_result",
          "data": {
            "text/plain": [
              "array([[19, 22, 31, 74, 61, 32, 61, 56, 46, 71],\n",
              "       [45, 38, 11, 57, 57, 34, 30, 43, 65, 68],\n",
              "       [79, 91, 52, 94, 42, 96, 16, 54, 24, 85],\n",
              "       [46, 28,  8, 85, 72, 39, 85, 99, 95, 10],\n",
              "       [95, 23, 14, 17, 14, 61, 80, 71,  2, 89],\n",
              "       [34, 12, 17,  5, 58, 93, 43, 85, 77, 65]])"
            ]
          },
          "metadata": {},
          "execution_count": 89
        }
      ],
      "source": [
        "a2D = np.random.randint(1,100, (6,10))\n",
        "a2D"
      ]
    },
    {
      "cell_type": "code",
      "execution_count": 90,
      "metadata": {
        "collapsed": true,
        "colab": {
          "base_uri": "https://localhost:8080/"
        },
        "id": "53pFICD36-fl",
        "outputId": "ba24a503-750d-49af-dcde-d1978bc44e5b"
      },
      "outputs": [
        {
          "output_type": "execute_result",
          "data": {
            "text/plain": [
              "array([[19, 22, 31, 32, 46, 56, 61, 61, 71, 74],\n",
              "       [11, 30, 34, 38, 43, 45, 57, 57, 65, 68],\n",
              "       [16, 24, 42, 52, 54, 79, 85, 91, 94, 96],\n",
              "       [ 8, 10, 28, 39, 46, 72, 85, 85, 95, 99],\n",
              "       [ 2, 14, 14, 17, 23, 61, 71, 80, 89, 95],\n",
              "       [ 5, 12, 17, 34, 43, 58, 65, 77, 85, 93]])"
            ]
          },
          "metadata": {},
          "execution_count": 90
        }
      ],
      "source": [
        "a2D.sort() # Por padrão ordena o maior eixo (nesse caso o eixo 1, linhas)\n",
        "a2D"
      ]
    },
    {
      "cell_type": "code",
      "execution_count": 91,
      "metadata": {
        "collapsed": true,
        "colab": {
          "base_uri": "https://localhost:8080/"
        },
        "id": "Apy7BQZX6-fl",
        "outputId": "2ffa0357-7e0f-4145-b56f-7d0109acb3a3"
      },
      "outputs": [
        {
          "output_type": "execute_result",
          "data": {
            "text/plain": [
              "array([[ 2, 10, 14, 17, 23, 45, 57, 57, 65, 68],\n",
              "       [ 5, 12, 17, 32, 43, 56, 61, 61, 71, 74],\n",
              "       [ 8, 14, 28, 34, 43, 58, 65, 77, 85, 93],\n",
              "       [11, 22, 31, 38, 46, 61, 71, 80, 89, 95],\n",
              "       [16, 24, 34, 39, 46, 72, 85, 85, 94, 96],\n",
              "       [19, 30, 42, 52, 54, 79, 85, 91, 95, 99]])"
            ]
          },
          "metadata": {},
          "execution_count": 91
        }
      ],
      "source": [
        "a2D.sort(axis=0) # Ordenando pelo eixo 0 (colunas)\n",
        "a2D"
      ]
    },
    {
      "cell_type": "code",
      "execution_count": 92,
      "metadata": {
        "collapsed": true,
        "colab": {
          "base_uri": "https://localhost:8080/"
        },
        "id": "YkQwhnRj6-fl",
        "outputId": "8ed4905d-aede-4ac1-e08c-f5529ec1ebca"
      },
      "outputs": [
        {
          "output_type": "execute_result",
          "data": {
            "text/plain": [
              "array([[49, 27, 68, 47, 22, 20, 33, 88,  5, 53],\n",
              "       [ 4, 98, 41, 71, 98,  5, 75, 25, 17, 40],\n",
              "       [12, 18, 93, 86, 77, 74, 22,  4, 16, 32],\n",
              "       [59, 27, 93, 47, 32, 57, 72, 59, 90, 46],\n",
              "       [ 5, 35,  3, 88, 49,  6, 47, 40, 28, 33],\n",
              "       [88, 16, 52, 47, 32,  9, 62, 15, 40, 56]])"
            ]
          },
          "metadata": {},
          "execution_count": 92
        }
      ],
      "source": [
        "a2D = np.random.randint(1,100, (6,10))\n",
        "a2D"
      ]
    },
    {
      "cell_type": "code",
      "execution_count": 93,
      "metadata": {
        "collapsed": true,
        "colab": {
          "base_uri": "https://localhost:8080/"
        },
        "id": "d7eaKxGW6-fl",
        "outputId": "f1d952f9-3d68-4c41-89db-5108675997f7"
      },
      "outputs": [
        {
          "output_type": "execute_result",
          "data": {
            "text/plain": [
              "array([[ 5, 20, 22, 27, 33, 47, 49, 53, 68, 88],\n",
              "       [ 4,  5, 17, 25, 40, 41, 71, 75, 98, 98],\n",
              "       [ 4, 12, 16, 18, 22, 32, 74, 77, 86, 93],\n",
              "       [27, 32, 46, 47, 57, 59, 59, 72, 90, 93],\n",
              "       [ 3,  5,  6, 28, 33, 35, 40, 47, 49, 88],\n",
              "       [ 9, 15, 16, 32, 40, 47, 52, 56, 62, 88]])"
            ]
          },
          "metadata": {},
          "execution_count": 93
        }
      ],
      "source": [
        "a2D.sort(axis=1) # Ordenando pelo eixo 1 (linhas)\n",
        "a2D"
      ]
    },
    {
      "cell_type": "markdown",
      "metadata": {
        "id": "umJfEfQj6-fl"
      },
      "source": [
        "### Transposição de arrays"
      ]
    },
    {
      "cell_type": "code",
      "execution_count": 94,
      "metadata": {
        "collapsed": true,
        "colab": {
          "base_uri": "https://localhost:8080/"
        },
        "id": "XZM0YBPl6-fl",
        "outputId": "f64703b3-c490-4dd3-86ff-4760f7c703e8"
      },
      "outputs": [
        {
          "output_type": "execute_result",
          "data": {
            "text/plain": [
              "array([[1, 2, 3, 4],\n",
              "       [5, 6, 7, 8]])"
            ]
          },
          "metadata": {},
          "execution_count": 94
        }
      ],
      "source": [
        "a2D = np.array([[1,2,3,4],[5,6,7,8]])\n",
        "a2D"
      ]
    },
    {
      "cell_type": "code",
      "execution_count": 95,
      "metadata": {
        "collapsed": true,
        "colab": {
          "base_uri": "https://localhost:8080/"
        },
        "id": "AUcTPpIz6-fl",
        "outputId": "35e11e02-6963-47be-f516-e0b7dd90ab96"
      },
      "outputs": [
        {
          "output_type": "execute_result",
          "data": {
            "text/plain": [
              "array([[1, 5],\n",
              "       [2, 6],\n",
              "       [3, 7],\n",
              "       [4, 8]])"
            ]
          },
          "metadata": {},
          "execution_count": 95
        }
      ],
      "source": [
        "a2DT = a2D.T # Retorna a transposta\n",
        "a2DT"
      ]
    },
    {
      "cell_type": "code",
      "execution_count": 96,
      "metadata": {
        "collapsed": true,
        "colab": {
          "base_uri": "https://localhost:8080/"
        },
        "id": "dtqwOzlM6-fl",
        "outputId": "5ccb56ca-c85d-46ae-f8c0-5dd38edf91e5"
      },
      "outputs": [
        {
          "output_type": "execute_result",
          "data": {
            "text/plain": [
              "array([[1, 2, 3, 4],\n",
              "       [5, 6, 7, 8]])"
            ]
          },
          "metadata": {},
          "execution_count": 96
        }
      ],
      "source": [
        "a2D # a2D original não foi transposto"
      ]
    },
    {
      "cell_type": "code",
      "execution_count": 97,
      "metadata": {
        "collapsed": true,
        "colab": {
          "base_uri": "https://localhost:8080/"
        },
        "id": "FLnz1tzV6-fm",
        "outputId": "4f1e5dce-ee42-4e41-ae79-c9e0136fa35f"
      },
      "outputs": [
        {
          "output_type": "execute_result",
          "data": {
            "text/plain": [
              "array([[1, 5],\n",
              "       [2, 6],\n",
              "       [3, 7],\n",
              "       [4, 8]])"
            ]
          },
          "metadata": {},
          "execution_count": 97
        }
      ],
      "source": [
        "a2D.transpose() # Retorna a transposta"
      ]
    },
    {
      "cell_type": "code",
      "execution_count": 99,
      "metadata": {
        "collapsed": true,
        "colab": {
          "base_uri": "https://localhost:8080/"
        },
        "id": "VMgP8Wzw6-fm",
        "outputId": "53b6234d-0baa-46a9-f152-55391550d1ee"
      },
      "outputs": [
        {
          "output_type": "execute_result",
          "data": {
            "text/plain": [
              "array([[1, 2, 3, 4],\n",
              "       [5, 6, 7, 8]])"
            ]
          },
          "metadata": {},
          "execution_count": 99
        }
      ],
      "source": [
        "a2D # a2D original não foi transposto (não é método inplace)"
      ]
    },
    {
      "cell_type": "markdown",
      "metadata": {
        "id": "F6FQE9of6-fm"
      },
      "source": [
        "### Mudando o formato de um array - reshape()"
      ]
    },
    {
      "cell_type": "code",
      "execution_count": 110,
      "metadata": {
        "collapsed": true,
        "colab": {
          "base_uri": "https://localhost:8080/"
        },
        "id": "NtaFSx0k6-fm",
        "outputId": "dd766aab-48d8-4bf8-bcb7-2b3f316d7337"
      },
      "outputs": [
        {
          "output_type": "execute_result",
          "data": {
            "text/plain": [
              "array([ 1,  2,  3,  4,  5,  6,  7,  8,  9, 10, 11, 12, 13, 14, 15, 16, 17,\n",
              "       18, 19, 20, 21, 22, 23, 24])"
            ]
          },
          "metadata": {},
          "execution_count": 110
        }
      ],
      "source": [
        "a1D = np.arange(1,25)\n",
        "a1D"
      ]
    },
    {
      "cell_type": "code",
      "execution_count": 111,
      "metadata": {
        "collapsed": true,
        "colab": {
          "base_uri": "https://localhost:8080/"
        },
        "id": "0KcfDTCa6-fm",
        "outputId": "4069a367-6cad-4e3e-a550-789876526915"
      },
      "outputs": [
        {
          "output_type": "stream",
          "name": "stdout",
          "text": [
            "(24,)\n",
            "(2, 12)\n",
            "[[ 1  2  3  4  5  6  7  8  9 10 11 12]\n",
            " [13 14 15 16 17 18 19 20 21 22 23 24]]\n"
          ]
        }
      ],
      "source": [
        "print(a1D.shape)\n",
        "a1D.shape = (2,12)\n",
        "print(a1D.shape)\n",
        "print(a1D)"
      ]
    },
    {
      "cell_type": "code",
      "execution_count": 114,
      "metadata": {
        "collapsed": true,
        "colab": {
          "base_uri": "https://localhost:8080/"
        },
        "id": "klVk55486-fm",
        "outputId": "250ed009-c282-4746-e5c5-012daddf7345"
      },
      "outputs": [
        {
          "output_type": "execute_result",
          "data": {
            "text/plain": [
              "array([[ 1,  2,  3,  4,  5,  6],\n",
              "       [ 7,  8,  9, 10, 11, 12],\n",
              "       [13, 14, 15, 16, 17, 18],\n",
              "       [19, 20, 21, 22, 23, 24]])"
            ]
          },
          "metadata": {},
          "execution_count": 114
        }
      ],
      "source": [
        "a2D_4x6 = a1D.reshape(4,6) #não altera o formato do array, mas retorna o array formatado\n",
        "a2D_4x6"
      ]
    },
    {
      "cell_type": "code",
      "execution_count": 115,
      "metadata": {
        "collapsed": true,
        "colab": {
          "base_uri": "https://localhost:8080/"
        },
        "id": "tkp8GrNH6-fm",
        "outputId": "7de77548-79f1-46b8-aa2d-84c8be918ddc"
      },
      "outputs": [
        {
          "output_type": "execute_result",
          "data": {
            "text/plain": [
              "array([[ 1,  2,  3,  4,  5,  6,  7,  8,  9, 10, 11, 12],\n",
              "       [13, 14, 15, 16, 17, 18, 19, 20, 21, 22, 23, 24]])"
            ]
          },
          "metadata": {},
          "execution_count": 115
        }
      ],
      "source": [
        "a1D"
      ]
    },
    {
      "cell_type": "code",
      "execution_count": 116,
      "metadata": {
        "collapsed": true,
        "colab": {
          "base_uri": "https://localhost:8080/"
        },
        "id": "c-Uwxm0l6-fm",
        "outputId": "e092450c-bc34-47ba-a324-76f3ace13d4a"
      },
      "outputs": [
        {
          "output_type": "execute_result",
          "data": {
            "text/plain": [
              "array([[ 1,  2,  3,  4,  5,  6,  7,  8],\n",
              "       [ 9, 10, 11, 12, 13, 14, 15, 16],\n",
              "       [17, 18, 19, 20, 21, 22, 23, 24]])"
            ]
          },
          "metadata": {},
          "execution_count": 116
        }
      ],
      "source": [
        "a2D_3x8 = a1D.reshape(3,8)\n",
        "a2D_3x8"
      ]
    },
    {
      "cell_type": "markdown",
      "metadata": {
        "id": "iavwq__D6-fm"
      },
      "source": [
        "### Linearização de um array"
      ]
    },
    {
      "cell_type": "code",
      "execution_count": 117,
      "metadata": {
        "collapsed": true,
        "colab": {
          "base_uri": "https://localhost:8080/"
        },
        "id": "dDF5dikf6-fm",
        "outputId": "1d1abf93-d02a-4ed9-d27f-c15ce20ca278"
      },
      "outputs": [
        {
          "output_type": "execute_result",
          "data": {
            "text/plain": [
              "array([ 1,  2,  3,  4,  5,  6,  7,  8,  9, 10, 11, 12, 13, 14, 15, 16, 17,\n",
              "       18, 19, 20, 21, 22, 23, 24])"
            ]
          },
          "metadata": {},
          "execution_count": 117
        }
      ],
      "source": [
        "x = a2D_3x8.flatten()\n",
        "x"
      ]
    },
    {
      "cell_type": "code",
      "execution_count": 118,
      "metadata": {
        "collapsed": true,
        "colab": {
          "base_uri": "https://localhost:8080/"
        },
        "id": "-Xbt64vE6-fm",
        "outputId": "3ad6e3dc-1f49-492d-9789-29f3b83a0f7a"
      },
      "outputs": [
        {
          "output_type": "execute_result",
          "data": {
            "text/plain": [
              "array([ 1,  2,  3,  4,  5,  6,  7,  8,  9, 10, 11, 12, 13, 14, 15, 16, 17,\n",
              "       18, 19, 20, 21, 22, 23, 24])"
            ]
          },
          "metadata": {},
          "execution_count": 118
        }
      ],
      "source": [
        "y = a2D_3x8.ravel()\n",
        "y"
      ]
    },
    {
      "cell_type": "markdown",
      "metadata": {
        "id": "AnP7kd--6-fm"
      },
      "source": [
        "### Combinando/concatenando arrays"
      ]
    },
    {
      "cell_type": "code",
      "execution_count": 119,
      "metadata": {
        "collapsed": true,
        "colab": {
          "base_uri": "https://localhost:8080/"
        },
        "id": "b6oWeDQp6-fm",
        "outputId": "fbaf8fb0-8aa6-43ee-e399-85d420f62ac7"
      },
      "outputs": [
        {
          "output_type": "execute_result",
          "data": {
            "text/plain": [
              "array([[41, 79, 70, 79, 69, 20, 60, 81, 46],\n",
              "       [97, 86, 22, 53, 76, 35, 24, 10, 56],\n",
              "       [40, 44, 80, 64, 44,  2, 95, 15, 31]])"
            ]
          },
          "metadata": {},
          "execution_count": 119
        }
      ],
      "source": [
        "a2D = np.random.randint(1,101,(3,9))\n",
        "a2D"
      ]
    },
    {
      "cell_type": "code",
      "execution_count": 120,
      "metadata": {
        "collapsed": true,
        "colab": {
          "base_uri": "https://localhost:8080/"
        },
        "id": "yqGyC4ef6-fm",
        "outputId": "0937a8e2-38cb-4f33-de23-94fc5cb94a8a"
      },
      "outputs": [
        {
          "output_type": "execute_result",
          "data": {
            "text/plain": [
              "array([[84,  5, 87, 60, 34, 38, 68,  4,  1],\n",
              "       [32, 45, 46, 76, 36,  4, 99, 41, 67],\n",
              "       [88, 17, 71,  9, 64, 38, 86, 54,  6],\n",
              "       [58, 93, 96, 99, 20, 62, 13, 74, 38],\n",
              "       [60, 42, 96, 64, 87,  7, 77, 53, 69]])"
            ]
          },
          "metadata": {},
          "execution_count": 120
        }
      ],
      "source": [
        "b2D = np.random.randint(1,101,(5,9))\n",
        "b2D"
      ]
    },
    {
      "cell_type": "code",
      "execution_count": 121,
      "metadata": {
        "collapsed": true,
        "colab": {
          "base_uri": "https://localhost:8080/"
        },
        "id": "92yyYemJ6-fm",
        "outputId": "c6371927-0f13-4eb4-c00e-b870060aab32"
      },
      "outputs": [
        {
          "output_type": "execute_result",
          "data": {
            "text/plain": [
              "array([[52, 52,  9, 62],\n",
              "       [38, 69, 35, 97],\n",
              "       [79, 70, 28, 99],\n",
              "       [42, 32, 98, 44],\n",
              "       [95, 56, 81, 78]])"
            ]
          },
          "metadata": {},
          "execution_count": 121
        }
      ],
      "source": [
        "c2D = np.random.randint(1,101,(5,4))\n",
        "c2D"
      ]
    },
    {
      "cell_type": "code",
      "execution_count": 122,
      "metadata": {
        "collapsed": true,
        "colab": {
          "base_uri": "https://localhost:8080/",
          "height": 35
        },
        "id": "fOrcghzi6-fm",
        "outputId": "968d2685-1ea9-46d9-cdf4-3ea4fa291bac"
      },
      "outputs": [
        {
          "output_type": "execute_result",
          "data": {
            "text/plain": [
              "'Python & Numpy'"
            ],
            "application/vnd.google.colaboratory.intrinsic+json": {
              "type": "string"
            }
          },
          "metadata": {},
          "execution_count": 122
        }
      ],
      "source": [
        "# Concatenação de strings usa o operador \"+\"\n",
        "str1 = \"Python\"\n",
        "str2 = \" & \"\n",
        "str3 = \"Numpy\"\n",
        "str4 = str1 + str2 + str3\n",
        "str4"
      ]
    },
    {
      "cell_type": "code",
      "execution_count": 123,
      "metadata": {
        "collapsed": true,
        "colab": {
          "base_uri": "https://localhost:8080/",
          "height": 159
        },
        "id": "lU-Ucjjc6-fm",
        "outputId": "1f47388b-62ce-4d87-cd1a-b67bbdd7c2fe"
      },
      "outputs": [
        {
          "output_type": "error",
          "ename": "ValueError",
          "evalue": "operands could not be broadcast together with shapes (3,9) (5,9) ",
          "traceback": [
            "\u001b[0;31m---------------------------------------------------------------------------\u001b[0m",
            "\u001b[0;31mValueError\u001b[0m                                Traceback (most recent call last)",
            "\u001b[0;32m<ipython-input-123-74910d117a42>\u001b[0m in \u001b[0;36m<cell line: 2>\u001b[0;34m()\u001b[0m\n\u001b[1;32m      1\u001b[0m \u001b[0;31m# O operador \"+\" aplicado a ndarrays não faz a concatenação, mas tentar somar elemento a elemento\u001b[0m\u001b[0;34m\u001b[0m\u001b[0;34m\u001b[0m\u001b[0m\n\u001b[0;32m----> 2\u001b[0;31m \u001b[0ma2D\u001b[0m \u001b[0;34m+\u001b[0m \u001b[0mb2D\u001b[0m\u001b[0;34m\u001b[0m\u001b[0;34m\u001b[0m\u001b[0m\n\u001b[0m",
            "\u001b[0;31mValueError\u001b[0m: operands could not be broadcast together with shapes (3,9) (5,9) "
          ]
        }
      ],
      "source": [
        "# O operador \"+\" aplicado a ndarrays não faz a concatenação, mas tentar somar elemento a elemento\n",
        "a2D + b2D"
      ]
    },
    {
      "cell_type": "code",
      "execution_count": 124,
      "metadata": {
        "collapsed": true,
        "colab": {
          "base_uri": "https://localhost:8080/"
        },
        "id": "S0BfBzvS6-fm",
        "outputId": "48565d5e-80cf-4fd3-94fb-33084c0924c1"
      },
      "outputs": [
        {
          "output_type": "stream",
          "name": "stdout",
          "text": [
            "a2D\n",
            "[[41 79 70 79 69 20 60 81 46]\n",
            " [97 86 22 53 76 35 24 10 56]\n",
            " [40 44 80 64 44  2 95 15 31]]\n",
            "\n",
            "b2D\n",
            "[[84  5 87 60 34 38 68  4  1]\n",
            " [32 45 46 76 36  4 99 41 67]\n",
            " [88 17 71  9 64 38 86 54  6]\n",
            " [58 93 96 99 20 62 13 74 38]\n",
            " [60 42 96 64 87  7 77 53 69]]\n",
            "\n",
            "Concatenação\n",
            "[[41 79 70 79 69 20 60 81 46]\n",
            " [97 86 22 53 76 35 24 10 56]\n",
            " [40 44 80 64 44  2 95 15 31]\n",
            " [84  5 87 60 34 38 68  4  1]\n",
            " [32 45 46 76 36  4 99 41 67]\n",
            " [88 17 71  9 64 38 86 54  6]\n",
            " [58 93 96 99 20 62 13 74 38]\n",
            " [60 42 96 64 87  7 77 53 69]]\n"
          ]
        }
      ],
      "source": [
        "A = np.concatenate((a2D, b2D), axis = 0) # Concatenando pelo eixo das colunas (eixo 0) (empilhamento vertical)\n",
        "print(\"a2D\")\n",
        "print(a2D)\n",
        "print(\"\")\n",
        "print(\"b2D\")\n",
        "print(b2D)\n",
        "print(\"\")\n",
        "print(\"Concatenação\")\n",
        "print(A)"
      ]
    },
    {
      "cell_type": "code",
      "execution_count": 125,
      "metadata": {
        "collapsed": true,
        "colab": {
          "base_uri": "https://localhost:8080/"
        },
        "id": "A7ApLrwm6-fm",
        "outputId": "57061437-7b99-44fc-de5c-28032382f0bd"
      },
      "outputs": [
        {
          "output_type": "stream",
          "name": "stdout",
          "text": [
            "a2D\n",
            "[[41 79 70 79 69 20 60 81 46]\n",
            " [97 86 22 53 76 35 24 10 56]\n",
            " [40 44 80 64 44  2 95 15 31]]\n",
            "\n",
            "b2D\n",
            "[[84  5 87 60 34 38 68  4  1]\n",
            " [32 45 46 76 36  4 99 41 67]\n",
            " [88 17 71  9 64 38 86 54  6]\n",
            " [58 93 96 99 20 62 13 74 38]\n",
            " [60 42 96 64 87  7 77 53 69]]\n",
            "\n",
            "Concatenação\n",
            "[[41 79 70 79 69 20 60 81 46]\n",
            " [97 86 22 53 76 35 24 10 56]\n",
            " [40 44 80 64 44  2 95 15 31]\n",
            " [84  5 87 60 34 38 68  4  1]\n",
            " [32 45 46 76 36  4 99 41 67]\n",
            " [88 17 71  9 64 38 86 54  6]\n",
            " [58 93 96 99 20 62 13 74 38]\n",
            " [60 42 96 64 87  7 77 53 69]]\n"
          ]
        }
      ],
      "source": [
        "B = np.vstack((a2D, b2D)) # Concatenando pelo eixo das colunas (eixo 0) (empilhamento vertical)\n",
        "print(\"a2D\")\n",
        "print(a2D)\n",
        "print(\"\")\n",
        "print(\"b2D\")\n",
        "print(b2D)\n",
        "print(\"\")\n",
        "print(\"Concatenação\")\n",
        "print(B)"
      ]
    },
    {
      "cell_type": "code",
      "execution_count": 126,
      "metadata": {
        "collapsed": true,
        "colab": {
          "base_uri": "https://localhost:8080/"
        },
        "id": "Fiuk85Gg6-fn",
        "outputId": "200b5933-d822-4f8c-8eb0-42d64956cf71"
      },
      "outputs": [
        {
          "output_type": "stream",
          "name": "stdout",
          "text": [
            "b2D\n",
            "[[84  5 87 60 34 38 68  4  1]\n",
            " [32 45 46 76 36  4 99 41 67]\n",
            " [88 17 71  9 64 38 86 54  6]\n",
            " [58 93 96 99 20 62 13 74 38]\n",
            " [60 42 96 64 87  7 77 53 69]]\n",
            "\n",
            "c2D\n",
            "[[52 52  9 62]\n",
            " [38 69 35 97]\n",
            " [79 70 28 99]\n",
            " [42 32 98 44]\n",
            " [95 56 81 78]]\n",
            "\n",
            "Concatenação\n",
            "[[84  5 87 60 34 38 68  4  1 52 52  9 62]\n",
            " [32 45 46 76 36  4 99 41 67 38 69 35 97]\n",
            " [88 17 71  9 64 38 86 54  6 79 70 28 99]\n",
            " [58 93 96 99 20 62 13 74 38 42 32 98 44]\n",
            " [60 42 96 64 87  7 77 53 69 95 56 81 78]]\n"
          ]
        }
      ],
      "source": [
        "C = np.concatenate((b2D, c2D), axis = 1) # Concatenando pelo eixo das linhas (eixo 1) (empilhamento horizontal)\n",
        "print(\"b2D\")\n",
        "print(b2D)\n",
        "print(\"\")\n",
        "print(\"c2D\")\n",
        "print(c2D)\n",
        "print(\"\")\n",
        "print(\"Concatenação\")\n",
        "print(C)"
      ]
    },
    {
      "cell_type": "code",
      "execution_count": 127,
      "metadata": {
        "collapsed": true,
        "colab": {
          "base_uri": "https://localhost:8080/"
        },
        "id": "rWctPgHW6-fn",
        "outputId": "b48400be-6d83-4a96-9695-8268e6527372"
      },
      "outputs": [
        {
          "output_type": "stream",
          "name": "stdout",
          "text": [
            "b2D\n",
            "[[84  5 87 60 34 38 68  4  1]\n",
            " [32 45 46 76 36  4 99 41 67]\n",
            " [88 17 71  9 64 38 86 54  6]\n",
            " [58 93 96 99 20 62 13 74 38]\n",
            " [60 42 96 64 87  7 77 53 69]]\n",
            "\n",
            "c2D\n",
            "[[52 52  9 62]\n",
            " [38 69 35 97]\n",
            " [79 70 28 99]\n",
            " [42 32 98 44]\n",
            " [95 56 81 78]]\n",
            "\n",
            "Concatenação\n",
            "[[84  5 87 60 34 38 68  4  1 52 52  9 62]\n",
            " [32 45 46 76 36  4 99 41 67 38 69 35 97]\n",
            " [88 17 71  9 64 38 86 54  6 79 70 28 99]\n",
            " [58 93 96 99 20 62 13 74 38 42 32 98 44]\n",
            " [60 42 96 64 87  7 77 53 69 95 56 81 78]]\n"
          ]
        }
      ],
      "source": [
        "D = np.hstack((b2D, c2D)) # Concatenando pelo eixo das linhas (eixo 1) (empilhamento horizontal)\n",
        "print(\"b2D\")\n",
        "print(b2D)\n",
        "print(\"\")\n",
        "print(\"c2D\")\n",
        "print(c2D)\n",
        "print(\"\")\n",
        "print(\"Concatenação\")\n",
        "print(D)"
      ]
    },
    {
      "cell_type": "markdown",
      "metadata": {
        "id": "XuEuAH656-fn"
      },
      "source": [
        "### Dividindo arrays"
      ]
    },
    {
      "cell_type": "code",
      "execution_count": 128,
      "metadata": {
        "collapsed": true,
        "colab": {
          "base_uri": "https://localhost:8080/"
        },
        "id": "DnTTkadr6-fn",
        "outputId": "ff485006-a80f-447f-ab1c-7eae73d6030c"
      },
      "outputs": [
        {
          "output_type": "stream",
          "name": "stdout",
          "text": [
            "Array original\n",
            "[[41 79 70 79 69 20 60 81 46]\n",
            " [97 86 22 53 76 35 24 10 56]\n",
            " [40 44 80 64 44  2 95 15 31]\n",
            " [84  5 87 60 34 38 68  4  1]\n",
            " [32 45 46 76 36  4 99 41 67]\n",
            " [88 17 71  9 64 38 86 54  6]\n",
            " [58 93 96 99 20 62 13 74 38]\n",
            " [60 42 96 64 87  7 77 53 69]]\n",
            "\n",
            "1a parte\n",
            "[[41 79 70 79 69 20 60 81 46]\n",
            " [97 86 22 53 76 35 24 10 56]\n",
            " [40 44 80 64 44  2 95 15 31]\n",
            " [84  5 87 60 34 38 68  4  1]]\n",
            "\n",
            "2a parte\n",
            "[[32 45 46 76 36  4 99 41 67]\n",
            " [88 17 71  9 64 38 86 54  6]\n",
            " [58 93 96 99 20 62 13 74 38]\n",
            " [60 42 96 64 87  7 77 53 69]]\n"
          ]
        }
      ],
      "source": [
        "A_splitted = np.vsplit(A,2) # Divisáo vertical (corta no sentido das colunas)\n",
        "print(\"Array original\")\n",
        "print(A)\n",
        "print(\"\")\n",
        "print(\"1a parte\")\n",
        "print(A_splitted[0])\n",
        "print(\"\")\n",
        "print(\"2a parte\")\n",
        "print(A_splitted[1])"
      ]
    },
    {
      "cell_type": "code",
      "execution_count": 129,
      "metadata": {
        "collapsed": true,
        "colab": {
          "base_uri": "https://localhost:8080/"
        },
        "id": "aPyKWqVX6-fn",
        "outputId": "3d92b7a6-aeaf-4168-9e70-f34063ae2b00"
      },
      "outputs": [
        {
          "output_type": "stream",
          "name": "stdout",
          "text": [
            "Array original\n",
            "[[41 79 70 79 69 20 60 81 46]\n",
            " [97 86 22 53 76 35 24 10 56]\n",
            " [40 44 80 64 44  2 95 15 31]\n",
            " [84  5 87 60 34 38 68  4  1]\n",
            " [32 45 46 76 36  4 99 41 67]\n",
            " [88 17 71  9 64 38 86 54  6]\n",
            " [58 93 96 99 20 62 13 74 38]\n",
            " [60 42 96 64 87  7 77 53 69]]\n",
            "\n",
            "1a parte\n",
            "[[41 79 70]\n",
            " [97 86 22]\n",
            " [40 44 80]\n",
            " [84  5 87]\n",
            " [32 45 46]\n",
            " [88 17 71]\n",
            " [58 93 96]\n",
            " [60 42 96]]\n",
            "\n",
            "2a parte\n",
            "[[79 69 20]\n",
            " [53 76 35]\n",
            " [64 44  2]\n",
            " [60 34 38]\n",
            " [76 36  4]\n",
            " [ 9 64 38]\n",
            " [99 20 62]\n",
            " [64 87  7]]\n",
            "\n",
            "3a parte\n",
            "[[60 81 46]\n",
            " [24 10 56]\n",
            " [95 15 31]\n",
            " [68  4  1]\n",
            " [99 41 67]\n",
            " [86 54  6]\n",
            " [13 74 38]\n",
            " [77 53 69]]\n"
          ]
        }
      ],
      "source": [
        "A_splitted3 = np.hsplit(A,3) # Divisão horizontal (corta no sentido das linhas)\n",
        "print(\"Array original\")\n",
        "print(A)\n",
        "print(\"\")\n",
        "print(\"1a parte\")\n",
        "print(A_splitted3[0])\n",
        "print(\"\")\n",
        "print(\"2a parte\")\n",
        "print(A_splitted3[1])\n",
        "print(\"\")\n",
        "print(\"3a parte\")\n",
        "print(A_splitted3[2])"
      ]
    },
    {
      "cell_type": "code",
      "execution_count": null,
      "metadata": {
        "collapsed": true,
        "id": "A1weme0F6-fn"
      },
      "outputs": [],
      "source": []
    }
  ],
  "metadata": {
    "kernelspec": {
      "display_name": "Python 3",
      "language": "python",
      "name": "python3"
    },
    "language_info": {
      "codemirror_mode": {
        "name": "ipython",
        "version": 3
      },
      "file_extension": ".py",
      "mimetype": "text/x-python",
      "name": "python",
      "nbconvert_exporter": "python",
      "pygments_lexer": "ipython3",
      "version": "3.6.3"
    },
    "colab": {
      "provenance": [],
      "include_colab_link": true
    }
  },
  "nbformat": 4,
  "nbformat_minor": 0
}