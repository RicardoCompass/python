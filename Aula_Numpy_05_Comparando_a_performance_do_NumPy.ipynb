{
  "cells": [
    {
      "cell_type": "markdown",
      "metadata": {
        "id": "Trve5Y6OXP5p"
      },
      "source": [
        "# Comparação da performance do NumPy"
      ]
    },
    {
      "cell_type": "code",
      "execution_count": 1,
      "metadata": {
        "id": "WjGee6IlXP5q"
      },
      "outputs": [],
      "source": [
        "idades = [18, 41, 13, 25, 2, 10]"
      ]
    },
    {
      "cell_type": "code",
      "execution_count": 2,
      "metadata": {
        "id": "9n4T08o8XP5q"
      },
      "outputs": [],
      "source": [
        "# Somando todos os elementos com uma função\n",
        "def soma(numeros):\n",
        "    soma = 0\n",
        "    for num in numeros:\n",
        "        soma = soma + num\n",
        "    return soma"
      ]
    },
    {
      "cell_type": "code",
      "execution_count": 3,
      "metadata": {
        "colab": {
          "base_uri": "https://localhost:8080/"
        },
        "id": "SFKVHDptXP5r",
        "outputId": "77e720b9-7067-4073-c39d-7233efb402e1"
      },
      "outputs": [
        {
          "output_type": "execute_result",
          "data": {
            "text/plain": [
              "109"
            ]
          },
          "metadata": {},
          "execution_count": 3
        }
      ],
      "source": [
        "# Somar as idades usando a função soma\n",
        "soma(idades)"
      ]
    },
    {
      "cell_type": "code",
      "execution_count": 4,
      "metadata": {
        "colab": {
          "base_uri": "https://localhost:8080/"
        },
        "id": "osV2wrRcXP5r",
        "outputId": "3c37f6a1-dcff-4ef9-e365-2c36c045d765"
      },
      "outputs": [
        {
          "output_type": "execute_result",
          "data": {
            "text/plain": [
              "109"
            ]
          },
          "metadata": {},
          "execution_count": 4
        }
      ],
      "source": [
        "# Somar as idades usando a função sum() do Python\n",
        "sum(idades)"
      ]
    },
    {
      "cell_type": "code",
      "execution_count": 5,
      "metadata": {
        "colab": {
          "base_uri": "https://localhost:8080/"
        },
        "id": "QnvlBe37XP5r",
        "outputId": "352d701c-c663-41ca-d0b2-59a36ef28386"
      },
      "outputs": [
        {
          "output_type": "execute_result",
          "data": {
            "text/plain": [
              "109"
            ]
          },
          "metadata": {},
          "execution_count": 5
        }
      ],
      "source": [
        "# Somar as idades usando a função np.sum() do Python\n",
        "import numpy as np\n",
        "np.sum(idades)"
      ]
    },
    {
      "cell_type": "code",
      "execution_count": 6,
      "metadata": {
        "colab": {
          "base_uri": "https://localhost:8080/"
        },
        "id": "aKrbYsyCXP5r",
        "outputId": "12f4ad5e-8d25-4986-b9f9-ce9cb6444267"
      },
      "outputs": [
        {
          "output_type": "execute_result",
          "data": {
            "text/plain": [
              "20000000"
            ]
          },
          "metadata": {},
          "execution_count": 6
        }
      ],
      "source": [
        "# Gerando uma quantidade maior de elementos\n",
        "idades = np.random.randint(0, 50, 20000000)\n",
        "len(idades)"
      ]
    },
    {
      "cell_type": "code",
      "execution_count": 7,
      "metadata": {
        "colab": {
          "base_uri": "https://localhost:8080/"
        },
        "id": "WM_H4EgnXP5r",
        "outputId": "d399711b-7601-49fc-e29f-9c3b474cecc9"
      },
      "outputs": [
        {
          "output_type": "stream",
          "name": "stdout",
          "text": [
            "489971400\n",
            "489971400\n",
            "489971400\n"
          ]
        }
      ],
      "source": [
        "print(soma(idades))\n",
        "print(sum(idades))\n",
        "print(np.sum(idades))"
      ]
    },
    {
      "cell_type": "code",
      "execution_count": 8,
      "metadata": {
        "colab": {
          "base_uri": "https://localhost:8080/"
        },
        "id": "Of5o9vC5XP5r",
        "outputId": "c4f065fd-ee44-4588-bc92-3c7e1e8ac138"
      },
      "outputs": [
        {
          "output_type": "stream",
          "name": "stdout",
          "text": [
            "2.29 s ± 360 ms per loop (mean ± std. dev. of 7 runs, 1 loop each)\n"
          ]
        }
      ],
      "source": [
        "%timeit soma(idades)"
      ]
    },
    {
      "cell_type": "code",
      "execution_count": 9,
      "metadata": {
        "colab": {
          "base_uri": "https://localhost:8080/"
        },
        "id": "G6XEAWX7XP5r",
        "outputId": "49e7455a-90a8-4a77-aae7-597cb8e79924"
      },
      "outputs": [
        {
          "output_type": "stream",
          "name": "stdout",
          "text": [
            "1.84 s ± 429 ms per loop (mean ± std. dev. of 7 runs, 1 loop each)\n"
          ]
        }
      ],
      "source": [
        "%timeit sum(idades)"
      ]
    },
    {
      "cell_type": "code",
      "execution_count": 10,
      "metadata": {
        "colab": {
          "base_uri": "https://localhost:8080/"
        },
        "id": "bBcNtiyZXP5s",
        "outputId": "0872af3e-1d8e-41b6-c651-96a1b6b498be"
      },
      "outputs": [
        {
          "output_type": "stream",
          "name": "stdout",
          "text": [
            "19.8 ms ± 817 µs per loop (mean ± std. dev. of 7 runs, 100 loops each)\n"
          ]
        }
      ],
      "source": [
        "%timeit np.sum(idades)"
      ]
    },
    {
      "cell_type": "markdown",
      "metadata": {
        "id": "w_lDj99CXP5s"
      },
      "source": [
        "### Calculando o quadrado de cada número"
      ]
    },
    {
      "cell_type": "code",
      "execution_count": 12,
      "metadata": {
        "colab": {
          "base_uri": "https://localhost:8080/"
        },
        "id": "kHxouoaHXP5s",
        "outputId": "6a5e1736-c64b-42f6-b5e3-3b8ea07a55e6"
      },
      "outputs": [
        {
          "output_type": "stream",
          "name": "stdout",
          "text": [
            "1.91 s ± 274 ms per loop (mean ± std. dev. of 7 runs, 1 loop each)\n"
          ]
        }
      ],
      "source": [
        "numeros = np.random.randint(0, 50, 10000000)\n",
        "# Usando uma função iterativa (num * num)\n",
        "def quadrado(numeros):\n",
        "    quadrados = []\n",
        "    for num in numeros:\n",
        "        quadrados.append(num * num)\n",
        "    return quadrados\n",
        "\n",
        "%timeit quadrado(numeros)"
      ]
    },
    {
      "cell_type": "code",
      "execution_count": 13,
      "metadata": {
        "colab": {
          "base_uri": "https://localhost:8080/"
        },
        "id": "pR8ztJGkXP5s",
        "outputId": "57c09f4f-c738-4608-888c-43d2745a2a3b"
      },
      "outputs": [
        {
          "output_type": "stream",
          "name": "stdout",
          "text": [
            "2.16 s ± 397 ms per loop (mean ± std. dev. of 7 runs, 1 loop each)\n"
          ]
        }
      ],
      "source": [
        "# Usando uma função iterativa (num ** 2)\n",
        "def quadrado2(numeros):\n",
        "    quadrados = []\n",
        "    for num in numeros:\n",
        "        quadrados.append(num ** 2)\n",
        "    return quadrados\n",
        "\n",
        "%timeit quadrado2(numeros)"
      ]
    },
    {
      "cell_type": "code",
      "execution_count": 14,
      "metadata": {
        "colab": {
          "base_uri": "https://localhost:8080/"
        },
        "id": "JwPMK1ZkXP5s",
        "outputId": "4ef1a2f9-6922-43b6-962c-6ebcb7e858c1"
      },
      "outputs": [
        {
          "output_type": "stream",
          "name": "stdout",
          "text": [
            "1.58 s ± 352 ms per loop (mean ± std. dev. of 7 runs, 1 loop each)\n"
          ]
        }
      ],
      "source": [
        "# Usando comprehension\n",
        "def quad_comprehension(numeros):\n",
        "    return [num * num for num in numeros]\n",
        "\n",
        "%timeit quad_comprehension(numeros)"
      ]
    },
    {
      "cell_type": "code",
      "execution_count": 15,
      "metadata": {
        "colab": {
          "base_uri": "https://localhost:8080/"
        },
        "id": "uV3QyTDdXP5s",
        "outputId": "9a8e4117-63b0-479f-fec4-a99ce765cfb8"
      },
      "outputs": [
        {
          "output_type": "stream",
          "name": "stdout",
          "text": [
            "2.05 s ± 477 ms per loop (mean ± std. dev. of 7 runs, 1 loop each)\n"
          ]
        }
      ],
      "source": [
        "# Usando map()\n",
        "def quad_map(numeros):\n",
        "    return list(map(lambda num: num * num, numeros))\n",
        "\n",
        "%timeit quad_map(numeros)"
      ]
    },
    {
      "cell_type": "code",
      "execution_count": 16,
      "metadata": {
        "colab": {
          "base_uri": "https://localhost:8080/"
        },
        "id": "MHgIrRRdXP5s",
        "outputId": "382b359f-eb24-49d5-b328-3cbb18354350"
      },
      "outputs": [
        {
          "output_type": "stream",
          "name": "stdout",
          "text": [
            "63.9 ms ± 14.2 ms per loop (mean ± std. dev. of 7 runs, 10 loops each)\n"
          ]
        }
      ],
      "source": [
        "# Usando o NumPy\n",
        "%timeit np.power(numeros,2)"
      ]
    },
    {
      "cell_type": "code",
      "execution_count": 17,
      "metadata": {
        "colab": {
          "base_uri": "https://localhost:8080/"
        },
        "id": "IsyGT_WNXP5s",
        "outputId": "72d9a8fb-95f2-48b8-e0a3-22dd5e2a1e22"
      },
      "outputs": [
        {
          "output_type": "stream",
          "name": "stdout",
          "text": [
            "778 ms ± 5.86 ms per loop (mean ± std. dev. of 7 runs, 1 loop each)\n"
          ]
        }
      ],
      "source": [
        "# Usando o NumPy - convertendo para list\n",
        "%timeit list(np.power(numeros,2))"
      ]
    }
  ],
  "metadata": {
    "kernelspec": {
      "display_name": "Python 3",
      "language": "python",
      "name": "python3"
    },
    "language_info": {
      "codemirror_mode": {
        "name": "ipython",
        "version": 3
      },
      "file_extension": ".py",
      "mimetype": "text/x-python",
      "name": "python",
      "nbconvert_exporter": "python",
      "pygments_lexer": "ipython3",
      "version": "3.7.3"
    },
    "colab": {
      "provenance": []
    }
  },
  "nbformat": 4,
  "nbformat_minor": 0
}